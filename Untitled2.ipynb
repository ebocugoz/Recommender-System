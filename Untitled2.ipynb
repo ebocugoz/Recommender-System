{
 "cells": [
  {
   "cell_type": "code",
   "execution_count": 1,
   "metadata": {
    "collapsed": true
   },
   "outputs": [],
   "source": [
    "import numpy as np\n",
    "import pandas as pd\n",
    "import os\n",
    "import pickle\n",
    "from sklearn.linear_model import Ridge\n",
    "from glob import glob\n",
    "from surprise import Dataset, Reader\n",
    "import random\n",
    "from blend import *\n",
    "from model_implementations import *\n",
    "%reload_ext autoreload\n",
    "%autoreload 2"
   ]
  },
  {
   "cell_type": "code",
   "execution_count": 2,
   "metadata": {
    "collapsed": true
   },
   "outputs": [],
   "source": [
    "data_train,data_test,data_actual_train,data_actual_predict = make_datasets()"
   ]
  },
  {
   "cell_type": "code",
   "execution_count": 3,
   "metadata": {
    "collapsed": true
   },
   "outputs": [],
   "source": [
    "from pyspark import SparkContext, SparkConf"
   ]
  },
  {
   "cell_type": "code",
   "execution_count": 4,
   "metadata": {
    "collapsed": true
   },
   "outputs": [],
   "source": [
    "conf = (SparkConf()\n",
    "            .setMaster(\"local\")\n",
    "            .setAppName(\"My app\")\n",
    "            .set(\"spark.executor.memory\", \"1g\")\n",
    "            )\n",
    "sc.stop()\n",
    "sc = SparkContext(conf=conf)\n",
    "sc.setLogLevel(\"ERROR\")"
   ]
  },
  {
   "cell_type": "code",
   "execution_count": 8,
   "metadata": {},
   "outputs": [],
   "source": [
    "\n"
   ]
  },
  {
   "cell_type": "code",
   "execution_count": 9,
   "metadata": {
    "scrolled": true
   },
   "outputs": [
    {
     "name": "stdout",
     "output_type": "stream",
     "text": [
      "SVDpp\n",
      "ALS\n",
      "pyfm\n",
      "Creating validation dataset of 0.01 of training for adaptive regularization\n",
      "-- Epoch 1\n",
      "Training MSE: 0.55294\n",
      "-- Epoch 2\n",
      "Training MSE: 0.51665\n",
      "-- Epoch 3\n",
      "Training MSE: 0.50671\n",
      "-- Epoch 4\n",
      "Training MSE: 0.50088\n",
      "-- Epoch 5\n",
      "Training MSE: 0.49688\n",
      "-- Epoch 6\n",
      "Training MSE: 0.49400\n",
      "-- Epoch 7\n",
      "Training MSE: 0.49169\n",
      "-- Epoch 8\n",
      "Training MSE: 0.48982\n",
      "-- Epoch 9\n",
      "Training MSE: 0.48822\n",
      "-- Epoch 10\n",
      "Training MSE: 0.48675\n",
      "-- Epoch 11\n",
      "Training MSE: 0.48542\n",
      "-- Epoch 12\n",
      "Training MSE: 0.48418\n",
      "-- Epoch 13\n",
      "Training MSE: 0.48292\n",
      "-- Epoch 14\n",
      "Training MSE: 0.48167\n",
      "-- Epoch 15\n",
      "Training MSE: 0.48049\n",
      "-- Epoch 16\n",
      "Training MSE: 0.47926\n",
      "-- Epoch 17\n",
      "Training MSE: 0.47802\n",
      "-- Epoch 18\n",
      "Training MSE: 0.47679\n",
      "-- Epoch 19\n",
      "Training MSE: 0.47546\n",
      "-- Epoch 20\n",
      "Training MSE: 0.47414\n",
      "-- Epoch 21\n",
      "Training MSE: 0.47281\n",
      "-- Epoch 22\n",
      "Training MSE: 0.47142\n",
      "-- Epoch 23\n",
      "Training MSE: 0.47010\n",
      "-- Epoch 24\n",
      "Training MSE: 0.46873\n",
      "-- Epoch 25\n",
      "Training MSE: 0.46735\n",
      "-- Epoch 26\n",
      "Training MSE: 0.46605\n",
      "-- Epoch 27\n",
      "Training MSE: 0.46477\n",
      "-- Epoch 28\n",
      "Training MSE: 0.46352\n",
      "-- Epoch 29\n",
      "Training MSE: 0.46231\n",
      "-- Epoch 30\n",
      "Training MSE: 0.46124\n",
      "-- Epoch 31\n",
      "Training MSE: 0.46018\n",
      "-- Epoch 32\n",
      "Training MSE: 0.45929\n",
      "-- Epoch 33\n",
      "Training MSE: 0.45847\n",
      "-- Epoch 34\n",
      "Training MSE: 0.45771\n",
      "-- Epoch 35\n",
      "Training MSE: 0.45702\n",
      "-- Epoch 36\n",
      "Training MSE: 0.45644\n",
      "-- Epoch 37\n",
      "Training MSE: 0.45590\n",
      "-- Epoch 38\n",
      "Training MSE: 0.45544\n",
      "-- Epoch 39\n",
      "Training MSE: 0.45505\n",
      "-- Epoch 40\n",
      "Training MSE: 0.45468\n",
      "-- Epoch 41\n",
      "Training MSE: 0.45435\n",
      "-- Epoch 42\n",
      "Training MSE: 0.45402\n",
      "-- Epoch 43\n",
      "Training MSE: 0.45378\n",
      "-- Epoch 44\n",
      "Training MSE: 0.45350\n",
      "-- Epoch 45\n",
      "Training MSE: 0.45323\n",
      "-- Epoch 46\n",
      "Training MSE: 0.45298\n",
      "-- Epoch 47\n",
      "Training MSE: 0.45268\n",
      "-- Epoch 48\n",
      "Training MSE: 0.45245\n",
      "-- Epoch 49\n",
      "Training MSE: 0.45218\n",
      "-- Epoch 50\n",
      "Training MSE: 0.45192\n",
      "-- Epoch 51\n",
      "Training MSE: 0.45173\n",
      "-- Epoch 52\n",
      "Training MSE: 0.45142\n",
      "-- Epoch 53\n",
      "Training MSE: 0.45114\n",
      "-- Epoch 54\n",
      "Training MSE: 0.45088\n",
      "-- Epoch 55\n",
      "Training MSE: 0.45060\n",
      "-- Epoch 56\n",
      "Training MSE: 0.45031\n",
      "-- Epoch 57\n",
      "Training MSE: 0.45006\n",
      "-- Epoch 58\n",
      "Training MSE: 0.44974\n",
      "-- Epoch 59\n",
      "Training MSE: 0.44945\n",
      "-- Epoch 60\n",
      "Training MSE: 0.44912\n",
      "-- Epoch 61\n",
      "Training MSE: 0.44882\n",
      "-- Epoch 62\n",
      "Training MSE: 0.44852\n",
      "-- Epoch 63\n",
      "Training MSE: 0.44815\n",
      "-- Epoch 64\n",
      "Training MSE: 0.44782\n",
      "-- Epoch 65\n",
      "Training MSE: 0.44746\n",
      "-- Epoch 66\n",
      "Training MSE: 0.44705\n",
      "-- Epoch 67\n",
      "Training MSE: 0.44671\n",
      "-- Epoch 68\n",
      "Training MSE: 0.44634\n",
      "-- Epoch 69\n",
      "Training MSE: 0.44597\n",
      "-- Epoch 70\n",
      "Training MSE: 0.44564\n",
      "-- Epoch 71\n",
      "Training MSE: 0.44529\n",
      "-- Epoch 72\n",
      "Training MSE: 0.44495\n",
      "-- Epoch 73\n",
      "Training MSE: 0.44465\n",
      "-- Epoch 74\n",
      "Training MSE: 0.44429\n",
      "-- Epoch 75\n",
      "Training MSE: 0.44405\n",
      "-- Epoch 76\n",
      "Training MSE: 0.44378\n",
      "-- Epoch 77\n",
      "Training MSE: 0.44356\n",
      "-- Epoch 78\n",
      "Training MSE: 0.44335\n",
      "-- Epoch 79\n",
      "Training MSE: 0.44313\n",
      "-- Epoch 80\n",
      "Training MSE: 0.44295\n",
      "-- Epoch 81\n",
      "Training MSE: 0.44275\n",
      "-- Epoch 82\n",
      "Training MSE: 0.44258\n",
      "-- Epoch 83\n",
      "Training MSE: 0.44237\n",
      "-- Epoch 84\n",
      "Training MSE: 0.44223\n",
      "-- Epoch 85\n",
      "Training MSE: 0.44203\n",
      "-- Epoch 86\n",
      "Training MSE: 0.44183\n",
      "-- Epoch 87\n",
      "Training MSE: 0.44167\n",
      "-- Epoch 88\n",
      "Training MSE: 0.44148\n",
      "-- Epoch 89\n",
      "Training MSE: 0.44135\n",
      "-- Epoch 90\n",
      "Training MSE: 0.44116\n",
      "-- Epoch 91\n",
      "Training MSE: 0.44100\n",
      "-- Epoch 92\n",
      "Training MSE: 0.44082\n",
      "-- Epoch 93\n",
      "Training MSE: 0.44066\n",
      "-- Epoch 94\n",
      "Training MSE: 0.44051\n",
      "-- Epoch 95\n",
      "Training MSE: 0.44036\n",
      "-- Epoch 96\n",
      "Training MSE: 0.44025\n",
      "-- Epoch 97\n",
      "Training MSE: 0.44011\n",
      "-- Epoch 98\n",
      "Training MSE: 0.44002\n",
      "-- Epoch 99\n",
      "Training MSE: 0.43992\n",
      "-- Epoch 100\n",
      "Training MSE: 0.43984\n",
      "-- Epoch 101\n",
      "Training MSE: 0.43973\n",
      "-- Epoch 102\n",
      "Training MSE: 0.43964\n",
      "-- Epoch 103\n",
      "Training MSE: 0.43959\n",
      "-- Epoch 104\n",
      "Training MSE: 0.43948\n",
      "-- Epoch 105\n",
      "Training MSE: 0.43945\n",
      "-- Epoch 106\n",
      "Training MSE: 0.43940\n",
      "-- Epoch 107\n",
      "Training MSE: 0.43937\n",
      "-- Epoch 108\n",
      "Training MSE: 0.43929\n",
      "-- Epoch 109\n",
      "Training MSE: 0.43932\n",
      "-- Epoch 110\n",
      "Training MSE: 0.43927\n",
      "-- Epoch 111\n",
      "Training MSE: 0.43925\n",
      "-- Epoch 112\n",
      "Training MSE: 0.43925\n",
      "-- Epoch 113\n",
      "Training MSE: 0.43921\n",
      "-- Epoch 114\n",
      "Training MSE: 0.43921\n",
      "-- Epoch 115\n",
      "Training MSE: 0.43923\n",
      "-- Epoch 116\n",
      "Training MSE: 0.43922\n",
      "-- Epoch 117\n",
      "Training MSE: 0.43921\n",
      "-- Epoch 118\n",
      "Training MSE: 0.43919\n",
      "-- Epoch 119\n",
      "Training MSE: 0.43924\n",
      "-- Epoch 120\n",
      "Training MSE: 0.43919\n",
      "-- Epoch 121\n",
      "Training MSE: 0.43920\n",
      "-- Epoch 122\n",
      "Training MSE: 0.43918\n",
      "-- Epoch 123\n",
      "Training MSE: 0.43921\n",
      "-- Epoch 124\n",
      "Training MSE: 0.43922\n",
      "-- Epoch 125\n",
      "Training MSE: 0.43920\n",
      "-- Epoch 126\n",
      "Training MSE: 0.43925\n",
      "-- Epoch 127\n",
      "Training MSE: 0.43920\n",
      "-- Epoch 128\n",
      "Training MSE: 0.43922\n",
      "-- Epoch 129\n",
      "Training MSE: 0.43922\n",
      "-- Epoch 130\n",
      "Training MSE: 0.43920\n",
      "-- Epoch 131\n",
      "Training MSE: 0.43922\n",
      "-- Epoch 132\n",
      "Training MSE: 0.43924\n",
      "-- Epoch 133\n",
      "Training MSE: 0.43921\n",
      "-- Epoch 134\n",
      "Training MSE: 0.43926\n",
      "-- Epoch 135\n",
      "Training MSE: 0.43924\n",
      "-- Epoch 136\n",
      "Training MSE: 0.43925\n",
      "-- Epoch 137\n",
      "Training MSE: 0.43923\n",
      "-- Epoch 138\n",
      "Training MSE: 0.43927\n",
      "-- Epoch 139\n",
      "Training MSE: 0.43924\n",
      "-- Epoch 140\n",
      "Training MSE: 0.43924\n",
      "-- Epoch 141\n",
      "Training MSE: 0.43923\n",
      "-- Epoch 142\n",
      "Training MSE: 0.43928\n",
      "-- Epoch 143\n",
      "Training MSE: 0.43930\n",
      "-- Epoch 144\n",
      "Training MSE: 0.43930\n",
      "-- Epoch 145\n",
      "Training MSE: 0.43931\n",
      "-- Epoch 146\n",
      "Training MSE: 0.43933\n",
      "-- Epoch 147\n",
      "Training MSE: 0.43934\n",
      "-- Epoch 148\n",
      "Training MSE: 0.43934\n",
      "-- Epoch 149\n",
      "Training MSE: 0.43934\n",
      "-- Epoch 150\n",
      "Training MSE: 0.43935\n",
      "-- Epoch 151\n",
      "Training MSE: 0.43940\n",
      "-- Epoch 152\n",
      "Training MSE: 0.43937\n",
      "-- Epoch 153\n",
      "Training MSE: 0.43938\n",
      "-- Epoch 154\n",
      "Training MSE: 0.43940\n",
      "-- Epoch 155\n",
      "Training MSE: 0.43936\n",
      "-- Epoch 156\n",
      "Training MSE: 0.43939\n",
      "-- Epoch 157\n",
      "Training MSE: 0.43943\n",
      "-- Epoch 158\n",
      "Training MSE: 0.43943\n",
      "-- Epoch 159\n",
      "Training MSE: 0.43946\n",
      "-- Epoch 160\n",
      "Training MSE: 0.43943\n",
      "-- Epoch 161\n",
      "Training MSE: 0.43943\n",
      "-- Epoch 162\n",
      "Training MSE: 0.43944\n",
      "-- Epoch 163\n",
      "Training MSE: 0.43944\n",
      "-- Epoch 164\n",
      "Training MSE: 0.43946\n",
      "-- Epoch 165\n",
      "Training MSE: 0.43943\n",
      "-- Epoch 166\n",
      "Training MSE: 0.43948\n",
      "-- Epoch 167\n",
      "Training MSE: 0.43941\n",
      "-- Epoch 168\n",
      "Training MSE: 0.43944\n",
      "-- Epoch 169\n",
      "Training MSE: 0.43948\n",
      "-- Epoch 170\n",
      "Training MSE: 0.43944\n",
      "-- Epoch 171\n",
      "Training MSE: 0.43946\n",
      "-- Epoch 172\n",
      "Training MSE: 0.43945\n",
      "-- Epoch 173\n",
      "Training MSE: 0.43943\n",
      "-- Epoch 174\n",
      "Training MSE: 0.43944\n",
      "-- Epoch 175\n",
      "Training MSE: 0.43941\n",
      "-- Epoch 176\n",
      "Training MSE: 0.43943\n",
      "-- Epoch 177\n",
      "Training MSE: 0.43944\n",
      "-- Epoch 178\n",
      "Training MSE: 0.43944\n",
      "-- Epoch 179\n",
      "Training MSE: 0.43941\n",
      "-- Epoch 180\n",
      "Training MSE: 0.43942\n",
      "-- Epoch 181\n",
      "Training MSE: 0.43943\n",
      "-- Epoch 182\n",
      "Training MSE: 0.43940\n",
      "-- Epoch 183\n",
      "Training MSE: 0.43941\n",
      "-- Epoch 184\n",
      "Training MSE: 0.43938\n",
      "-- Epoch 185\n",
      "Training MSE: 0.43940\n",
      "-- Epoch 186\n",
      "Training MSE: 0.43944\n",
      "-- Epoch 187\n",
      "Training MSE: 0.43939\n",
      "-- Epoch 188\n",
      "Training MSE: 0.43936\n",
      "-- Epoch 189\n",
      "Training MSE: 0.43941\n",
      "-- Epoch 190\n",
      "Training MSE: 0.43937\n",
      "-- Epoch 191\n",
      "Training MSE: 0.43937\n",
      "-- Epoch 192\n",
      "Training MSE: 0.43935\n",
      "-- Epoch 193\n",
      "Training MSE: 0.43939\n",
      "-- Epoch 194\n",
      "Training MSE: 0.43934\n",
      "-- Epoch 195\n",
      "Training MSE: 0.43932\n",
      "-- Epoch 196\n",
      "Training MSE: 0.43935\n",
      "-- Epoch 197\n",
      "Training MSE: 0.43935\n",
      "-- Epoch 198\n",
      "Training MSE: 0.43932\n",
      "-- Epoch 199\n",
      "Training MSE: 0.43929\n",
      "-- Epoch 200\n",
      "Training MSE: 0.43930\n",
      "baseline\n",
      "Estimating biases using als...\n",
      "slopeone\n",
      "knnUB\n",
      "Estimating biases using als...\n",
      "Computing the pearson_baseline similarity matrix...\n",
      "Done computing similarity matrix.\n",
      "knnIB\n",
      "Estimating biases using als...\n",
      "Computing the pearson_baseline similarity matrix...\n",
      "Done computing similarity matrix.\n",
      "SVD\n"
     ]
    }
   ],
   "source": [
    "all_predicts = get_predicts(data_train,data_test,sc)"
   ]
  },
  {
   "cell_type": "code",
   "execution_count": 13,
   "metadata": {},
   "outputs": [],
   "source": [
    "target = data_test[\"Rating\"].values"
   ]
  },
  {
   "cell_type": "code",
   "execution_count": null,
   "metadata": {
    "collapsed": true
   },
   "outputs": [],
   "source": [
    "train_file = 'tmp_train.csv'\n",
    "test_file = 'tmp_test.csv'\n",
    "data_train.to_csv(train_file, index=False, header=False)\n",
    "data_test.to_csv(test_file, index=False, header=False)"
   ]
  },
  {
   "cell_type": "code",
   "execution_count": 25,
   "metadata": {
    "scrolled": false
   },
   "outputs": [
    {
     "name": "stdout",
     "output_type": "stream",
     "text": [
      "ALS\n"
     ]
    }
   ],
   "source": [
    "als_pred = get_als_pred(data_actual_predict,data_actual_predict,sc,8, 0.2,24)"
   ]
  },
  {
   "cell_type": "code",
   "execution_count": 28,
   "metadata": {},
   "outputs": [
    {
     "data": {
      "text/plain": [
       "0.19982564074828235"
      ]
     },
     "execution_count": 28,
     "metadata": {},
     "output_type": "execute_result"
    }
   ],
   "source": [
    "als_pred_clip = np.clip(als_pred,1,5)\n",
    "calculate_rmse(als_pred_clip,target)"
   ]
  },
  {
   "cell_type": "code",
   "execution_count": null,
   "metadata": {
    "collapsed": true
   },
   "outputs": [],
   "source": [
    "als_pred2 = get_als_pred(data_train,data_test,sc,50, 0.081,50)"
   ]
  },
  {
   "cell_type": "code",
   "execution_count": null,
   "metadata": {
    "collapsed": true
   },
   "outputs": [],
   "source": [
    "\n",
    "for r in [8,20,50]:\n",
    "    for i in [0.001,0.01,0.05,0.05]"
   ]
  },
  {
   "cell_type": "code",
   "execution_count": null,
   "metadata": {
    "collapsed": true
   },
   "outputs": [],
   "source": [
    "als_pred_clip = np.clip(als_pred,1,5)"
   ]
  },
  {
   "cell_type": "code",
   "execution_count": null,
   "metadata": {
    "collapsed": true
   },
   "outputs": [],
   "source": [
    "calculate_rmse(als_pred_clip,target)"
   ]
  },
  {
   "cell_type": "code",
   "execution_count": null,
   "metadata": {
    "collapsed": true
   },
   "outputs": [],
   "source": [
    "baseline_pred = surprise_baseline(train_file,test_file)"
   ]
  },
  {
   "cell_type": "code",
   "execution_count": null,
   "metadata": {
    "collapsed": true
   },
   "outputs": [],
   "source": [
    "calculate_rmse(baseline_pred,target)"
   ]
  },
  {
   "cell_type": "code",
   "execution_count": null,
   "metadata": {
    "collapsed": true
   },
   "outputs": [],
   "source": [
    "all_pred  = np.zeros((4,388395))"
   ]
  },
  {
   "cell_type": "code",
   "execution_count": null,
   "metadata": {
    "collapsed": true
   },
   "outputs": [],
   "source": [
    "all_pred[0,:] = all_predicts[0,:]\n",
    "all_pred[1,:] = all_predicts[1,:]\n",
    "all_pred[2,:] = all_predicts[2,:]\n",
    "all_pred[3,:] = als_pred_clip"
   ]
  },
  {
   "cell_type": "code",
   "execution_count": 14,
   "metadata": {
    "scrolled": true
   },
   "outputs": [
    {
     "name": "stdout",
     "output_type": "stream",
     "text": [
      "0.9875048337216531\n"
     ]
    }
   ],
   "source": [
    "weights,linreg,rmse = get_weights(all_predicts,target)"
   ]
  },
  {
   "cell_type": "code",
   "execution_count": 16,
   "metadata": {},
   "outputs": [
    {
     "data": {
      "text/plain": [
       "1.010582230710002"
      ]
     },
     "execution_count": 16,
     "metadata": {},
     "output_type": "execute_result"
    }
   ],
   "source": [
    "calculate_rmse(target,all_predicts[5])"
   ]
  },
  {
   "cell_type": "code",
   "execution_count": 17,
   "metadata": {
    "collapsed": true
   },
   "outputs": [],
   "source": [
    "from model_surprise import *"
   ]
  },
  {
   "cell_type": "code",
   "execution_count": null,
   "metadata": {
    "collapsed": true
   },
   "outputs": [],
   "source": [
    " surprise_SVDpp('tmp_train.csv','tmp_test.csv')"
   ]
  },
  {
   "cell_type": "code",
   "execution_count": null,
   "metadata": {
    "collapsed": true
   },
   "outputs": [],
   "source": [
    "calculate_rmse(all_predicts[7],target)"
   ]
  },
  {
   "cell_type": "code",
   "execution_count": null,
   "metadata": {
    "collapsed": true
   },
   "outputs": [],
   "source": [
    "import pickle"
   ]
  },
  {
   "cell_type": "code",
   "execution_count": null,
   "metadata": {
    "collapsed": true
   },
   "outputs": [],
   "source": [
    "with open('linreg.pkl', 'wb') as f:\n",
    "    pickle.dump(linreg, f)\n",
    "        "
   ]
  },
  {
   "cell_type": "code",
   "execution_count": null,
   "metadata": {
    "collapsed": true
   },
   "outputs": [],
   "source": [
    "np.save(\"all_pred_2.npy\",all_predicts)\n",
    "\n"
   ]
  },
  {
   "cell_type": "code",
   "execution_count": 32,
   "metadata": {
    "collapsed": true
   },
   "outputs": [],
   "source": [
    "all_pred = np.load(\"all_pred_2.npy\")"
   ]
  },
  {
   "cell_type": "code",
   "execution_count": 29,
   "metadata": {
    "collapsed": true
   },
   "outputs": [],
   "source": [
    "with open(r\"linreg.pkl\", \"rb\") as input_file:\n",
    "    linreg2 = pickle.load(input_file)"
   ]
  },
  {
   "cell_type": "code",
   "execution_count": null,
   "metadata": {
    "collapsed": true
   },
   "outputs": [],
   "source": [
    "linreg.coef_"
   ]
  },
  {
   "cell_type": "code",
   "execution_count": 30,
   "metadata": {},
   "outputs": [
    {
     "data": {
      "text/plain": [
       "array([ 0.72743263,  0.75496403, -0.48452018, -0.00104813])"
      ]
     },
     "execution_count": 30,
     "metadata": {},
     "output_type": "execute_result"
    }
   ],
   "source": [
    "linreg2.coef_"
   ]
  },
  {
   "cell_type": "code",
   "execution_count": null,
   "metadata": {
    "collapsed": true,
    "scrolled": true
   },
   "outputs": [],
   "source": [
    "actual_predicts = get_predicts(data_actual_train,data_actual_predict,sc)"
   ]
  },
  {
   "cell_type": "code",
   "execution_count": null,
   "metadata": {
    "collapsed": true
   },
   "outputs": [],
   "source": [
    "actual_predicts.shape"
   ]
  },
  {
   "cell_type": "code",
   "execution_count": null,
   "metadata": {
    "collapsed": true
   },
   "outputs": [],
   "source": [
    "actual_pred[0,:] = all_predicts[0,:]\n",
    "actual_pred[1,:] = all_predicts[1,:]\n",
    "actual_pred[2,:] = all_predicts[2,:]\n",
    "actual_pred[3,:] = all_predicts[3,:]"
   ]
  },
  {
   "cell_type": "code",
   "execution_count": null,
   "metadata": {
    "collapsed": true
   },
   "outputs": [],
   "source": [
    "final_predictions = np.clip(linreg.predict(actual_predicts.T), 1, 5)"
   ]
  },
  {
   "cell_type": "code",
   "execution_count": null,
   "metadata": {
    "collapsed": true
   },
   "outputs": [],
   "source": [
    "final_predictions_round = np.round(final_predictions)"
   ]
  },
  {
   "cell_type": "code",
   "execution_count": null,
   "metadata": {
    "collapsed": true
   },
   "outputs": [],
   "source": [
    "final_predictions_round"
   ]
  },
  {
   "cell_type": "code",
   "execution_count": null,
   "metadata": {
    "collapsed": true
   },
   "outputs": [],
   "source": [
    "data_actual_predict[\"Rating\"] = final_predictions_round"
   ]
  },
  {
   "cell_type": "code",
   "execution_count": null,
   "metadata": {
    "collapsed": true
   },
   "outputs": [],
   "source": [
    "from implementations import *"
   ]
  },
  {
   "cell_type": "code",
   "execution_count": null,
   "metadata": {
    "collapsed": true
   },
   "outputs": [],
   "source": [
    "submission = submission_table(data_actual_predict, 'User', 'Movie', 'Rating')"
   ]
  },
  {
   "cell_type": "code",
   "execution_count": null,
   "metadata": {
    "collapsed": true
   },
   "outputs": [],
   "source": [
    "file_name = 'prediction_blend_morecomplex.csv'\n",
    "submission.to_csv(file_name, index=False)"
   ]
  },
  {
   "cell_type": "code",
   "execution_count": null,
   "metadata": {
    "collapsed": true
   },
   "outputs": [],
   "source": []
  },
  {
   "cell_type": "code",
   "execution_count": null,
   "metadata": {
    "collapsed": true
   },
   "outputs": [],
   "source": [
    "import scipy.optimize as sco\n",
    "from cross_validator import *\n"
   ]
  },
  {
   "cell_type": "code",
   "execution_count": null,
   "metadata": {
    "collapsed": true
   },
   "outputs": [],
   "source": [
    "def eval_(x, cv, models):\n",
    "    \"\"\" Evaluate the RMSE of the blending \"\"\"\n",
    "    dict_try = {}\n",
    "    for idx, key in enumerate(models.keys()):\n",
    "        dict_try[key] = x[idx]\n",
    "\n",
    "    return cv.evaluate_blending(dict_try)"
   ]
  },
  {
   "cell_type": "code",
   "execution_count": null,
   "metadata": {
    "collapsed": true
   },
   "outputs": [],
   "source": [
    "res = sco.minimize(eval_, x0, method='SLSQP', args=(cv, models), options={'maxiter': 1000, 'disp': True})"
   ]
  },
  {
   "cell_type": "code",
   "execution_count": null,
   "metadata": {
    "collapsed": true
   },
   "outputs": [],
   "source": [
    "np.save(\"actual_predicts_2.np\",actual_predicts)"
   ]
  },
  {
   "cell_type": "code",
   "execution_count": null,
   "metadata": {
    "collapsed": true
   },
   "outputs": [],
   "source": [
    "actual_predicts = np.load(\"actual_predicts.np.npy\")"
   ]
  },
  {
   "cell_type": "code",
   "execution_count": null,
   "metadata": {
    "collapsed": true
   },
   "outputs": [],
   "source": [
    "linreg2"
   ]
  },
  {
   "cell_type": "code",
   "execution_count": null,
   "metadata": {
    "collapsed": true
   },
   "outputs": [],
   "source": []
  }
 ],
 "metadata": {
  "kernelspec": {
   "display_name": "Python 3",
   "language": "python",
   "name": "python3"
  },
  "language_info": {
   "codemirror_mode": {
    "name": "ipython",
    "version": 3
   },
   "file_extension": ".py",
   "mimetype": "text/x-python",
   "name": "python",
   "nbconvert_exporter": "python",
   "pygments_lexer": "ipython3",
   "version": "3.6.4"
  }
 },
 "nbformat": 4,
 "nbformat_minor": 2
}
