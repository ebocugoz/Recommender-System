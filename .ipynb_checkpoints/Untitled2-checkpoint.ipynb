{
 "cells": [
  {
   "cell_type": "code",
   "execution_count": 8,
   "metadata": {},
   "outputs": [],
   "source": [
    "import numpy as np\n",
    "import pandas as pd\n",
    "import os\n",
    "import pickle\n",
    "from sklearn.linear_model import Ridge\n",
    "from glob import glob\n",
    "from surprise import Dataset, Reader\n",
    "import random\n",
    "from blend import *\n",
    "%reload_ext autoreload\n",
    "%autoreload 2"
   ]
  },
  {
   "cell_type": "code",
   "execution_count": 9,
   "metadata": {
    "collapsed": true
   },
   "outputs": [],
   "source": [
    "data_train,data_test,data_actual_train,data_actual_predict = make_datasets()"
   ]
  },
  {
   "cell_type": "code",
   "execution_count": 10,
   "metadata": {},
   "outputs": [],
   "source": [
    "target = data_test[\"Rating\"].values"
   ]
  },
  {
   "cell_type": "code",
   "execution_count": 11,
   "metadata": {
    "collapsed": true
   },
   "outputs": [],
   "source": [
    "from pyspark import SparkContext, SparkConf"
   ]
  },
  {
   "cell_type": "code",
   "execution_count": 12,
   "metadata": {},
   "outputs": [],
   "source": [
    "conf = (SparkConf()\n",
    "            .setMaster(\"local\")\n",
    "            .setAppName(\"My app\")\n",
    "            .set(\"spark.executor.memory\", \"1g\")\n",
    "            )\n",
    "sc.stop()\n",
    "sc = SparkContext(conf=conf)\n",
    "sc.setLogLevel(\"ERROR\")"
   ]
  },
  {
   "cell_type": "code",
   "execution_count": 73,
   "metadata": {
    "collapsed": true
   },
   "outputs": [],
   "source": [
    "train_file = 'tmp_train.csv'\n",
    "test_file = 'tmp_test.csv'\n",
    "data_train.to_csv(train_file, index=False, header=False)\n",
    "data_test.to_csv(test_file, index=False, header=False)\n"
   ]
  },
  {
   "cell_type": "code",
   "execution_count": 14,
   "metadata": {
    "collapsed": true
   },
   "outputs": [],
   "source": [
    "from model_matrixfactorization import *\n",
    "from model_means import *"
   ]
  },
  {
   "cell_type": "code",
   "execution_count": 15,
   "metadata": {
    "collapsed": true
   },
   "outputs": [],
   "source": [
    "ratings_train_df = submission_table(data_train, 'User', 'Movie', 'Rating')\n",
    "ratings_test_df = submission_table(data_test, 'User', 'Movie', 'Rating')"
   ]
  },
  {
   "cell_type": "code",
   "execution_count": 16,
   "metadata": {},
   "outputs": [],
   "source": [
    "ratings_train_file = 'ratings_train.csv'\n",
    "ratings_test_file = 'ratings_test.csv'\n",
    "ratings_train_df.to_csv(ratings_train_file, index=False, header=True)\n",
    "ratings_test_df.to_csv(ratings_test_file, index=False, header=True)"
   ]
  },
  {
   "cell_type": "code",
   "execution_count": 17,
   "metadata": {
    "scrolled": true
   },
   "outputs": [],
   "source": [
    "ratings_train = load_data_as_scipy(ratings_train_file)\n",
    "ratings_test = load_data_as_scipy(ratings_test_file)\n"
   ]
  },
  {
   "cell_type": "code",
   "execution_count": 7,
   "metadata": {},
   "outputs": [
    {
     "name": "stdout",
     "output_type": "stream",
     "text": [
      "ALS\n"
     ]
    }
   ],
   "source": [
    "als_pred = pyspark_ALS(data_train,data_test,sc)"
   ]
  },
  {
   "cell_type": "code",
   "execution_count": 65,
   "metadata": {
    "scrolled": true
   },
   "outputs": [],
   "source": [
    "pred_globalmean = np.load(\"savetrain/pred_globalmean.npy\")\n",
    "pred_usermean = np.load(\"savetrain/pred_usermean.npy\")\n",
    "pred_itemmean = np.load(\"savetrain/pred_itemmean.npy\")"
   ]
  },
  {
   "cell_type": "code",
   "execution_count": 67,
   "metadata": {},
   "outputs": [],
   "source": [
    "pred_sgd = np.load(\"savetrain/pred_sgd.npy\")"
   ]
  },
  {
   "cell_type": "code",
   "execution_count": 18,
   "metadata": {},
   "outputs": [
    {
     "name": "stdout",
     "output_type": "stream",
     "text": [
      "MF ALS\n"
     ]
    }
   ],
   "source": [
    "pred_als = implementation_ALS(ratings_train,ratings_test)"
   ]
  },
  {
   "cell_type": "code",
   "execution_count": 53,
   "metadata": {},
   "outputs": [],
   "source": [
    "dffm = pd.read_csv(\"prediction_pyfm.csv\")"
   ]
  },
  {
   "cell_type": "code",
   "execution_count": 56,
   "metadata": {},
   "outputs": [
    {
     "data": {
      "text/plain": [
       "(1176952,)"
      ]
     },
     "execution_count": 56,
     "metadata": {},
     "output_type": "execute_result"
    }
   ],
   "source": [
    "dffm[\"Prediction\"].values.shape"
   ]
  },
  {
   "cell_type": "code",
   "execution_count": 57,
   "metadata": {},
   "outputs": [
    {
     "data": {
      "text/plain": [
       "(1176952, 3)"
      ]
     },
     "execution_count": 57,
     "metadata": {},
     "output_type": "execute_result"
    }
   ],
   "source": [
    "data_actual_predict.shape"
   ]
  },
  {
   "cell_type": "code",
   "execution_count": 61,
   "metadata": {},
   "outputs": [],
   "source": [
    "svdpp_pred = pyfm_pred"
   ]
  },
  {
   "cell_type": "code",
   "execution_count": 20,
   "metadata": {
    "scrolled": true
   },
   "outputs": [
    {
     "name": "stdout",
     "output_type": "stream",
     "text": [
      "pyfm\n",
      "Creating validation dataset of 0.01 of training for adaptive regularization\n",
      "-- Epoch 1\n",
      "Training MSE: 0.55237\n",
      "-- Epoch 2\n",
      "Training MSE: 0.51615\n",
      "-- Epoch 3\n",
      "Training MSE: 0.50627\n",
      "-- Epoch 4\n",
      "Training MSE: 0.50035\n",
      "-- Epoch 5\n",
      "Training MSE: 0.49640\n",
      "-- Epoch 6\n",
      "Training MSE: 0.49349\n",
      "-- Epoch 7\n",
      "Training MSE: 0.49124\n",
      "-- Epoch 8\n",
      "Training MSE: 0.48933\n",
      "-- Epoch 9\n",
      "Training MSE: 0.48775\n",
      "-- Epoch 10\n",
      "Training MSE: 0.48634\n",
      "-- Epoch 11\n",
      "Training MSE: 0.48493\n",
      "-- Epoch 12\n",
      "Training MSE: 0.48366\n",
      "-- Epoch 13\n",
      "Training MSE: 0.48243\n",
      "-- Epoch 14\n",
      "Training MSE: 0.48117\n",
      "-- Epoch 15\n",
      "Training MSE: 0.47989\n",
      "-- Epoch 16\n",
      "Training MSE: 0.47863\n",
      "-- Epoch 17\n",
      "Training MSE: 0.47732\n",
      "-- Epoch 18\n",
      "Training MSE: 0.47592\n",
      "-- Epoch 19\n",
      "Training MSE: 0.47451\n",
      "-- Epoch 20\n",
      "Training MSE: 0.47306\n",
      "-- Epoch 21\n",
      "Training MSE: 0.47154\n",
      "-- Epoch 22\n",
      "Training MSE: 0.46995\n",
      "-- Epoch 23\n",
      "Training MSE: 0.46835\n",
      "-- Epoch 24\n",
      "Training MSE: 0.46675\n",
      "-- Epoch 25\n",
      "Training MSE: 0.46513\n",
      "-- Epoch 26\n",
      "Training MSE: 0.46349\n",
      "-- Epoch 27\n",
      "Training MSE: 0.46188\n",
      "-- Epoch 28\n",
      "Training MSE: 0.46033\n",
      "-- Epoch 29\n",
      "Training MSE: 0.45880\n",
      "-- Epoch 30\n",
      "Training MSE: 0.45734\n",
      "-- Epoch 31\n",
      "Training MSE: 0.45603\n",
      "-- Epoch 32\n",
      "Training MSE: 0.45475\n",
      "-- Epoch 33\n",
      "Training MSE: 0.45360\n",
      "-- Epoch 34\n",
      "Training MSE: 0.45257\n",
      "-- Epoch 35\n",
      "Training MSE: 0.45165\n",
      "-- Epoch 36\n",
      "Training MSE: 0.45091\n",
      "-- Epoch 37\n",
      "Training MSE: 0.45018\n",
      "-- Epoch 38\n",
      "Training MSE: 0.44954\n",
      "-- Epoch 39\n",
      "Training MSE: 0.44899\n",
      "-- Epoch 40\n",
      "Training MSE: 0.44856\n",
      "-- Epoch 41\n",
      "Training MSE: 0.44815\n",
      "-- Epoch 42\n",
      "Training MSE: 0.44782\n",
      "-- Epoch 43\n",
      "Training MSE: 0.44751\n",
      "-- Epoch 44\n",
      "Training MSE: 0.44724\n",
      "-- Epoch 45\n",
      "Training MSE: 0.44696\n",
      "-- Epoch 46\n",
      "Training MSE: 0.44674\n",
      "-- Epoch 47\n",
      "Training MSE: 0.44647\n",
      "-- Epoch 48\n",
      "Training MSE: 0.44633\n",
      "-- Epoch 49\n",
      "Training MSE: 0.44613\n",
      "-- Epoch 50\n",
      "Training MSE: 0.44592\n",
      "-- Epoch 51\n",
      "Training MSE: 0.44579\n",
      "-- Epoch 52\n",
      "Training MSE: 0.44564\n",
      "-- Epoch 53\n",
      "Training MSE: 0.44544\n",
      "-- Epoch 54\n",
      "Training MSE: 0.44532\n",
      "-- Epoch 55\n",
      "Training MSE: 0.44519\n",
      "-- Epoch 56\n",
      "Training MSE: 0.44506\n",
      "-- Epoch 57\n",
      "Training MSE: 0.44491\n",
      "-- Epoch 58\n",
      "Training MSE: 0.44478\n",
      "-- Epoch 59\n",
      "Training MSE: 0.44467\n",
      "-- Epoch 60\n",
      "Training MSE: 0.44458\n",
      "-- Epoch 61\n",
      "Training MSE: 0.44441\n",
      "-- Epoch 62\n",
      "Training MSE: 0.44437\n",
      "-- Epoch 63\n",
      "Training MSE: 0.44426\n",
      "-- Epoch 64\n",
      "Training MSE: 0.44414\n",
      "-- Epoch 65\n",
      "Training MSE: 0.44405\n",
      "-- Epoch 66\n",
      "Training MSE: 0.44394\n",
      "-- Epoch 67\n",
      "Training MSE: 0.44386\n",
      "-- Epoch 68\n",
      "Training MSE: 0.44377\n",
      "-- Epoch 69\n",
      "Training MSE: 0.44368\n",
      "-- Epoch 70\n",
      "Training MSE: 0.44362\n",
      "-- Epoch 71\n",
      "Training MSE: 0.44351\n",
      "-- Epoch 72\n",
      "Training MSE: 0.44343\n",
      "-- Epoch 73\n",
      "Training MSE: 0.44335\n",
      "-- Epoch 74\n",
      "Training MSE: 0.44326\n",
      "-- Epoch 75\n",
      "Training MSE: 0.44325\n",
      "-- Epoch 76\n",
      "Training MSE: 0.44314\n",
      "-- Epoch 77\n",
      "Training MSE: 0.44310\n",
      "-- Epoch 78\n",
      "Training MSE: 0.44301\n",
      "-- Epoch 79\n",
      "Training MSE: 0.44300\n",
      "-- Epoch 80\n",
      "Training MSE: 0.44293\n",
      "-- Epoch 81\n",
      "Training MSE: 0.44287\n",
      "-- Epoch 82\n",
      "Training MSE: 0.44283\n",
      "-- Epoch 83\n",
      "Training MSE: 0.44279\n",
      "-- Epoch 84\n",
      "Training MSE: 0.44269\n",
      "-- Epoch 85\n",
      "Training MSE: 0.44270\n",
      "-- Epoch 86\n",
      "Training MSE: 0.44261\n",
      "-- Epoch 87\n",
      "Training MSE: 0.44255\n",
      "-- Epoch 88\n",
      "Training MSE: 0.44256\n",
      "-- Epoch 89\n",
      "Training MSE: 0.44250\n",
      "-- Epoch 90\n",
      "Training MSE: 0.44244\n",
      "-- Epoch 91\n",
      "Training MSE: 0.44241\n",
      "-- Epoch 92\n",
      "Training MSE: 0.44234\n",
      "-- Epoch 93\n",
      "Training MSE: 0.44229\n",
      "-- Epoch 94\n",
      "Training MSE: 0.44229\n",
      "-- Epoch 95\n",
      "Training MSE: 0.44225\n",
      "-- Epoch 96\n",
      "Training MSE: 0.44218\n",
      "-- Epoch 97\n",
      "Training MSE: 0.44213\n",
      "-- Epoch 98\n",
      "Training MSE: 0.44209\n",
      "-- Epoch 99\n",
      "Training MSE: 0.44206\n",
      "-- Epoch 100\n",
      "Training MSE: 0.44200\n",
      "-- Epoch 101\n",
      "Training MSE: 0.44199\n",
      "-- Epoch 102\n",
      "Training MSE: 0.44193\n",
      "-- Epoch 103\n",
      "Training MSE: 0.44185\n",
      "-- Epoch 104\n",
      "Training MSE: 0.44184\n",
      "-- Epoch 105\n",
      "Training MSE: 0.44176\n",
      "-- Epoch 106\n",
      "Training MSE: 0.44168\n",
      "-- Epoch 107\n",
      "Training MSE: 0.44170\n",
      "-- Epoch 108\n",
      "Training MSE: 0.44157\n",
      "-- Epoch 109\n",
      "Training MSE: 0.44157\n",
      "-- Epoch 110\n",
      "Training MSE: 0.44152\n",
      "-- Epoch 111\n",
      "Training MSE: 0.44148\n",
      "-- Epoch 112\n",
      "Training MSE: 0.44137\n",
      "-- Epoch 113\n",
      "Training MSE: 0.44138\n",
      "-- Epoch 114\n",
      "Training MSE: 0.44129\n",
      "-- Epoch 115\n",
      "Training MSE: 0.44127\n",
      "-- Epoch 116\n",
      "Training MSE: 0.44119\n",
      "-- Epoch 117\n",
      "Training MSE: 0.44117\n",
      "-- Epoch 118\n",
      "Training MSE: 0.44111\n",
      "-- Epoch 119\n",
      "Training MSE: 0.44103\n",
      "-- Epoch 120\n",
      "Training MSE: 0.44103\n",
      "-- Epoch 121\n",
      "Training MSE: 0.44096\n",
      "-- Epoch 122\n",
      "Training MSE: 0.44086\n",
      "-- Epoch 123\n",
      "Training MSE: 0.44083\n",
      "-- Epoch 124\n",
      "Training MSE: 0.44076\n",
      "-- Epoch 125\n",
      "Training MSE: 0.44075\n",
      "-- Epoch 126\n",
      "Training MSE: 0.44064\n",
      "-- Epoch 127\n",
      "Training MSE: 0.44061\n",
      "-- Epoch 128\n",
      "Training MSE: 0.44054\n",
      "-- Epoch 129\n",
      "Training MSE: 0.44054\n",
      "-- Epoch 130\n",
      "Training MSE: 0.44042\n",
      "-- Epoch 131\n",
      "Training MSE: 0.44038\n",
      "-- Epoch 132\n",
      "Training MSE: 0.44033\n",
      "-- Epoch 133\n",
      "Training MSE: 0.44030\n",
      "-- Epoch 134\n",
      "Training MSE: 0.44023\n",
      "-- Epoch 135\n",
      "Training MSE: 0.44019\n",
      "-- Epoch 136\n",
      "Training MSE: 0.44011\n",
      "-- Epoch 137\n",
      "Training MSE: 0.44003\n",
      "-- Epoch 138\n",
      "Training MSE: 0.44002\n",
      "-- Epoch 139\n",
      "Training MSE: 0.43995\n",
      "-- Epoch 140\n",
      "Training MSE: 0.43988\n",
      "-- Epoch 141\n",
      "Training MSE: 0.43985\n",
      "-- Epoch 142\n",
      "Training MSE: 0.43975\n",
      "-- Epoch 143\n",
      "Training MSE: 0.43974\n",
      "-- Epoch 144\n",
      "Training MSE: 0.43972\n",
      "-- Epoch 145\n",
      "Training MSE: 0.43968\n",
      "-- Epoch 146\n",
      "Training MSE: 0.43957\n",
      "-- Epoch 147\n",
      "Training MSE: 0.43953\n",
      "-- Epoch 148\n",
      "Training MSE: 0.43947\n",
      "-- Epoch 149\n",
      "Training MSE: 0.43943\n",
      "-- Epoch 150\n",
      "Training MSE: 0.43937\n",
      "-- Epoch 151\n",
      "Training MSE: 0.43935\n",
      "-- Epoch 152\n",
      "Training MSE: 0.43929\n",
      "-- Epoch 153\n",
      "Training MSE: 0.43922\n",
      "-- Epoch 154\n",
      "Training MSE: 0.43919\n",
      "-- Epoch 155\n",
      "Training MSE: 0.43909\n",
      "-- Epoch 156\n",
      "Training MSE: 0.43904\n",
      "-- Epoch 157\n",
      "Training MSE: 0.43903\n",
      "-- Epoch 158\n",
      "Training MSE: 0.43896\n",
      "-- Epoch 159\n",
      "Training MSE: 0.43893\n",
      "-- Epoch 160\n",
      "Training MSE: 0.43892\n",
      "-- Epoch 161\n",
      "Training MSE: 0.43883\n",
      "-- Epoch 162\n",
      "Training MSE: 0.43876\n",
      "-- Epoch 163\n",
      "Training MSE: 0.43878\n",
      "-- Epoch 164\n",
      "Training MSE: 0.43871\n",
      "-- Epoch 165\n",
      "Training MSE: 0.43864\n",
      "-- Epoch 166\n",
      "Training MSE: 0.43861\n",
      "-- Epoch 167\n",
      "Training MSE: 0.43856\n",
      "-- Epoch 168\n",
      "Training MSE: 0.43854\n",
      "-- Epoch 169\n",
      "Training MSE: 0.43846\n",
      "-- Epoch 170\n",
      "Training MSE: 0.43844\n",
      "-- Epoch 171\n",
      "Training MSE: 0.43837\n",
      "-- Epoch 172\n",
      "Training MSE: 0.43831\n",
      "-- Epoch 173\n",
      "Training MSE: 0.43832\n",
      "-- Epoch 174\n",
      "Training MSE: 0.43826\n",
      "-- Epoch 175\n",
      "Training MSE: 0.43824\n",
      "-- Epoch 176\n",
      "Training MSE: 0.43815\n",
      "-- Epoch 177\n",
      "Training MSE: 0.43809\n",
      "-- Epoch 178\n",
      "Training MSE: 0.43805\n",
      "-- Epoch 179\n",
      "Training MSE: 0.43804\n",
      "-- Epoch 180\n",
      "Training MSE: 0.43795\n",
      "-- Epoch 181\n",
      "Training MSE: 0.43795\n",
      "-- Epoch 182\n",
      "Training MSE: 0.43785\n",
      "-- Epoch 183\n",
      "Training MSE: 0.43782\n",
      "-- Epoch 184\n",
      "Training MSE: 0.43779\n",
      "-- Epoch 185\n",
      "Training MSE: 0.43779\n",
      "-- Epoch 186\n",
      "Training MSE: 0.43770\n",
      "-- Epoch 187\n",
      "Training MSE: 0.43767\n",
      "-- Epoch 188\n",
      "Training MSE: 0.43756\n",
      "-- Epoch 189\n",
      "Training MSE: 0.43757\n",
      "-- Epoch 190\n",
      "Training MSE: 0.43752\n",
      "-- Epoch 191\n",
      "Training MSE: 0.43748\n",
      "-- Epoch 192\n",
      "Training MSE: 0.43738\n",
      "-- Epoch 193\n",
      "Training MSE: 0.43737\n",
      "-- Epoch 194\n",
      "Training MSE: 0.43734\n",
      "-- Epoch 195\n",
      "Training MSE: 0.43726\n",
      "-- Epoch 196\n",
      "Training MSE: 0.43722\n",
      "-- Epoch 197\n",
      "Training MSE: 0.43714\n",
      "-- Epoch 198\n",
      "Training MSE: 0.43714\n",
      "-- Epoch 199\n",
      "Training MSE: 0.43708\n",
      "-- Epoch 200\n",
      "Training MSE: 0.43701\n"
     ]
    }
   ],
   "source": [
    "pyfm_pred = pyfm_predict(data_train,data_test)"
   ]
  },
  {
   "cell_type": "code",
   "execution_count": 74,
   "metadata": {},
   "outputs": [
    {
     "name": "stdout",
     "output_type": "stream",
     "text": [
      "baseline\n",
      "Estimating biases using als...\n",
      "slopeone\n"
     ]
    }
   ],
   "source": [
    "baseline_pred = surprise_baseline(train_file,test_file)\n",
    "slopeone_pred = surprise_slopeOne(train_file,test_file)"
   ]
  },
  {
   "cell_type": "code",
   "execution_count": 62,
   "metadata": {},
   "outputs": [],
   "source": [
    "knn_ub_pred = np.load(\"savetrain/knn_ub_pred.npy\")\n"
   ]
  },
  {
   "cell_type": "code",
   "execution_count": 63,
   "metadata": {
    "collapsed": true
   },
   "outputs": [],
   "source": [
    "knn_ib_pred = np.load(\"savetrain/knn_ib_pred.npy\")\n",
    "svd_pred = np.load(\"savetrain/svd_pred.npy\")"
   ]
  },
  {
   "cell_type": "code",
   "execution_count": 64,
   "metadata": {
    "collapsed": true
   },
   "outputs": [],
   "source": [
    "target = data_test[\"Rating\"].values"
   ]
  },
  {
   "cell_type": "code",
   "execution_count": 76,
   "metadata": {},
   "outputs": [],
   "source": [
    "all_predictions = np.array([baseline_pred,slopeone_pred,knn_ub_pred,knn_ib_pred,svd_pred,als_pred,pyfm_pred,pred_globalmean,pred_usermean,pred_itemmean,pred_sgd,pred_als])\n"
   ]
  },
  {
   "cell_type": "code",
   "execution_count": 77,
   "metadata": {},
   "outputs": [
    {
     "data": {
      "text/plain": [
       "array([[4.84956551, 3.37569186, 2.38597125, ..., 4.19535341, 3.99275511,\n",
       "        3.73862204],\n",
       "       [4.90226726, 3.38597126, 2.2602057 , ..., 4.2215157 , 4.08176568,\n",
       "        3.6712617 ],\n",
       "       [4.46862257, 3.83419838, 4.52556426, ..., 3.73166189, 3.70938878,\n",
       "        3.63994233],\n",
       "       ...,\n",
       "       [3.43636364, 3.43636364, 3.43636364, ..., 3.6653426 , 3.6653426 ,\n",
       "        3.6653426 ],\n",
       "       [3.72221748, 3.38389345, 2.80273332, ..., 3.53173908, 3.59824531,\n",
       "        3.08352133],\n",
       "       [3.24277234, 3.2685294 , 2.55766431, ..., 3.59700589, 3.72246152,\n",
       "        3.47751556]])"
      ]
     },
     "execution_count": 77,
     "metadata": {},
     "output_type": "execute_result"
    }
   ],
   "source": [
    "all_predictions"
   ]
  },
  {
   "cell_type": "code",
   "execution_count": 82,
   "metadata": {
    "scrolled": true
   },
   "outputs": [
    {
     "data": {
      "text/plain": [
       "array([ 0.72743263,  0.75496403, -0.48452018, -0.00104813])"
      ]
     },
     "execution_count": 82,
     "metadata": {},
     "output_type": "execute_result"
    }
   ],
   "source": [
    "linreg2.coef_"
   ]
  },
  {
   "cell_type": "code",
   "execution_count": 79,
   "metadata": {},
   "outputs": [
    {
     "name": "stdout",
     "output_type": "stream",
     "text": [
      "0.9926383209344873\n"
     ]
    }
   ],
   "source": [
    "weights,linreg,rmse = get_weights(all_predictions,target)"
   ]
  },
  {
   "cell_type": "code",
   "execution_count": 81,
   "metadata": {},
   "outputs": [
    {
     "data": {
      "text/plain": [
       "{'als_pred': -0.002881140741541171,\n",
       " 'baseline_pred': 0.2323911708027017,\n",
       " 'knn_ib_pred': 0.008643475542368875,\n",
       " 'knn_ub_pred': -0.00012137925535658351,\n",
       " 'pred_als': 0.004554817612769937,\n",
       " 'pred_globalmean': -0.022690289723065932,\n",
       " 'pred_itemmean': 0.007988230878160352,\n",
       " 'pred_sgd': -0.012106600260881856,\n",
       " 'pred_usermean': 0.010834483939041096,\n",
       " 'pyfm_pred': 0.4413667926079133,\n",
       " 'slopeone_pred': -0.09319680532878935,\n",
       " 'svd_pred': -0.011894354702652273,\n",
       " 'svdpp_pred': 0.4413667832982412}"
      ]
     },
     "execution_count": 81,
     "metadata": {},
     "output_type": "execute_result"
    }
   ],
   "source": [
    "weights"
   ]
  },
  {
   "cell_type": "code",
   "execution_count": 85,
   "metadata": {},
   "outputs": [],
   "source": [
    "als_pred_final =  np.load(\"alsp_final.npy\")\n",
    "\n",
    "\n",
    "\n",
    "\n",
    "pred_globalmean_final = np.load(\"save/pred_globalmean.npy\")\n",
    "pred_usermean_final = np.load(\"save/pred_usermean.npy\")\n",
    "pred_itemmean_final = np.load(\"save/pred_itemmean.npy\")\n",
    "\n",
    "pred_sgd_final = np.load(\"save/pred_sgd.npy\")\n",
    "pred_als_final =  np.load(\"save/pred_als.npy\")\n",
    "\n",
    "\n",
    "\n",
    "\n",
    "\n",
    "svdpp_pred_final =  np.load(\"save/svdpp_pred.npy\")\n",
    "pyfm_pred_final = np.load(\"pyfm_final.npy\")\n",
    "\n",
    "\n",
    "baseline_pred_final = np.load(\"save/baseline_pred.npy\")\n",
    "slopeone_pred_final = np.load(\"save/slopeone_pred.npy\")\n",
    "\n",
    "knn_ub_pred_final= np.load(\"save/knn_ub_pred.npy\")\n",
    "knn_ib_pred_final = np.load(\"save/knn_ib_pred.npy\")\n",
    "svd_pred_final = np.load(\"save/svd_pred.npy\")\n"
   ]
  },
  {
   "cell_type": "code",
   "execution_count": 26,
   "metadata": {},
   "outputs": [],
   "source": []
  },
  {
   "cell_type": "code",
   "execution_count": 86,
   "metadata": {},
   "outputs": [],
   "source": [
    "all_predictions = np.array([baseline_pred_final,slopeone_pred_final,knn_ub_pred_final,knn_ib_pred_final,svd_pred_final,svdpp_pred_final,als_pred_final,pyfm_pred_final,pred_globalmean_final,pred_usermean_final,pred_itemmean_final,pred_sgd_final,pred_als_final])\n",
    "\n",
    "\n",
    "\n"
   ]
  },
  {
   "cell_type": "code",
   "execution_count": 87,
   "metadata": {},
   "outputs": [
    {
     "data": {
      "text/plain": [
       "array([[3.30215648, 3.03177571, 3.71408953, ..., 3.14992145, 3.20736904,\n",
       "        3.82487471],\n",
       "       [3.24566399, 2.95305035, 3.73503185, ..., 3.09764156, 3.16574267,\n",
       "        3.83649328],\n",
       "       [3.23982501, 2.95810776, 3.71647246, ..., 3.16630543, 3.2208289 ,\n",
       "        3.7702432 ],\n",
       "       ...,\n",
       "       [3.37941176, 3.37941176, 3.37941176, ..., 3.68230563, 3.68230563,\n",
       "        3.68230563],\n",
       "       [3.29641743, 2.89994396, 3.68382989, ..., 3.12637047, 3.14767184,\n",
       "        3.71666944],\n",
       "       [3.08186326, 2.84922023, 3.43714808, ..., 2.98030964, 3.00644232,\n",
       "        3.5877649 ]])"
      ]
     },
     "execution_count": 87,
     "metadata": {},
     "output_type": "execute_result"
    }
   ],
   "source": [
    "all_predictions "
   ]
  },
  {
   "cell_type": "code",
   "execution_count": 88,
   "metadata": {},
   "outputs": [],
   "source": [
    "final_predictions = np.clip(linreg.predict(all_predictions.T), 1, 5)"
   ]
  },
  {
   "cell_type": "code",
   "execution_count": 89,
   "metadata": {
    "collapsed": true
   },
   "outputs": [],
   "source": [
    "final_predictions_round = np.round(final_predictions)"
   ]
  },
  {
   "cell_type": "code",
   "execution_count": 91,
   "metadata": {
    "collapsed": true
   },
   "outputs": [],
   "source": [
    "data_actual_predict[\"Rating\"] = final_predictions_round"
   ]
  },
  {
   "cell_type": "code",
   "execution_count": 92,
   "metadata": {
    "collapsed": true
   },
   "outputs": [],
   "source": [
    "submission = submission_table(data_actual_predict, 'User', 'Movie', 'Rating')"
   ]
  },
  {
   "cell_type": "code",
   "execution_count": 94,
   "metadata": {
    "collapsed": true
   },
   "outputs": [],
   "source": [
    "file_name = 'prediction_blend_final.csv'\n",
    "submission.to_csv(file_name, index=False)"
   ]
  },
  {
   "cell_type": "code",
   "execution_count": null,
   "metadata": {
    "collapsed": true
   },
   "outputs": [],
   "source": [
    "import pickle"
   ]
  },
  {
   "cell_type": "code",
   "execution_count": null,
   "metadata": {
    "collapsed": true
   },
   "outputs": [],
   "source": [
    "with open('linreg.pkl', 'wb') as f:\n",
    "    pickle.dump(linreg, f)\n",
    "        "
   ]
  },
  {
   "cell_type": "code",
   "execution_count": null,
   "metadata": {
    "collapsed": true
   },
   "outputs": [],
   "source": [
    "np.save(\"all_pred_final.npy\",all_predicts)\n",
    "\n"
   ]
  },
  {
   "cell_type": "code",
   "execution_count": null,
   "metadata": {
    "collapsed": true
   },
   "outputs": [],
   "source": [
    "all_pred = np.load(\"all_pred_2.npy\")"
   ]
  },
  {
   "cell_type": "code",
   "execution_count": 75,
   "metadata": {
    "collapsed": true
   },
   "outputs": [],
   "source": [
    "with open(r\"linreg.pkl\", \"rb\") as input_file:\n",
    "    linreg2 = pickle.load(input_file)"
   ]
  },
  {
   "cell_type": "code",
   "execution_count": null,
   "metadata": {
    "collapsed": true
   },
   "outputs": [],
   "source": [
    "linreg2.c"
   ]
  },
  {
   "cell_type": "code",
   "execution_count": null,
   "metadata": {
    "collapsed": true
   },
   "outputs": [],
   "source": [
    "linreg.coef_"
   ]
  },
  {
   "cell_type": "code",
   "execution_count": null,
   "metadata": {},
   "outputs": [],
   "source": [
    "linreg2.coef_"
   ]
  },
  {
   "cell_type": "code",
   "execution_count": null,
   "metadata": {
    "collapsed": true,
    "scrolled": true
   },
   "outputs": [],
   "source": [
    "actual_predicts = get_predicts(data_actual_train,data_actual_predict,sc)"
   ]
  },
  {
   "cell_type": "code",
   "execution_count": null,
   "metadata": {
    "collapsed": true
   },
   "outputs": [],
   "source": [
    "actual_predicts.shape"
   ]
  },
  {
   "cell_type": "code",
   "execution_count": null,
   "metadata": {
    "collapsed": true
   },
   "outputs": [],
   "source": [
    "actual_pred[0,:] = all_predicts[0,:]\n",
    "actual_pred[1,:] = all_predicts[1,:]\n",
    "actual_pred[2,:] = all_predicts[2,:]\n",
    "actual_pred[3,:] = all_predicts[3,:]"
   ]
  },
  {
   "cell_type": "code",
   "execution_count": null,
   "metadata": {
    "collapsed": true
   },
   "outputs": [],
   "source": [
    "final_predictions = np.clip(linreg.predict(actual_predicts.T), 1, 5)"
   ]
  },
  {
   "cell_type": "code",
   "execution_count": null,
   "metadata": {
    "collapsed": true
   },
   "outputs": [],
   "source": [
    "final_predictions_round = np.round(final_predictions)"
   ]
  },
  {
   "cell_type": "code",
   "execution_count": null,
   "metadata": {
    "collapsed": true
   },
   "outputs": [],
   "source": [
    "final_predictions_round"
   ]
  },
  {
   "cell_type": "code",
   "execution_count": null,
   "metadata": {
    "collapsed": true
   },
   "outputs": [],
   "source": [
    "data_actual_predict[\"Rating\"] = final_predictions_round"
   ]
  },
  {
   "cell_type": "code",
   "execution_count": null,
   "metadata": {
    "collapsed": true
   },
   "outputs": [],
   "source": [
    "from implementations import *"
   ]
  },
  {
   "cell_type": "code",
   "execution_count": null,
   "metadata": {
    "collapsed": true
   },
   "outputs": [],
   "source": [
    "submission = submission_table(data_actual_predict, 'User', 'Movie', 'Rating')"
   ]
  },
  {
   "cell_type": "code",
   "execution_count": null,
   "metadata": {
    "collapsed": true
   },
   "outputs": [],
   "source": [
    "file_name = 'prediction_blend_morecomplex.csv'\n",
    "submission.to_csv(file_name, index=False)"
   ]
  },
  {
   "cell_type": "code",
   "execution_count": null,
   "metadata": {
    "collapsed": true
   },
   "outputs": [],
   "source": []
  },
  {
   "cell_type": "code",
   "execution_count": null,
   "metadata": {
    "collapsed": true
   },
   "outputs": [],
   "source": [
    "import scipy.optimize as sco\n",
    "from cross_validator import *\n"
   ]
  },
  {
   "cell_type": "code",
   "execution_count": null,
   "metadata": {
    "collapsed": true
   },
   "outputs": [],
   "source": [
    "def eval_(x, cv, models):\n",
    "    \"\"\" Evaluate the RMSE of the blending \"\"\"\n",
    "    dict_try = {}\n",
    "    for idx, key in enumerate(models.keys()):\n",
    "        dict_try[key] = x[idx]\n",
    "\n",
    "    return cv.evaluate_blending(dict_try)"
   ]
  },
  {
   "cell_type": "code",
   "execution_count": null,
   "metadata": {
    "collapsed": true
   },
   "outputs": [],
   "source": [
    "res = sco.minimize(eval_, x0, method='SLSQP', args=(cv, models), options={'maxiter': 1000, 'disp': True})"
   ]
  },
  {
   "cell_type": "code",
   "execution_count": null,
   "metadata": {
    "collapsed": true
   },
   "outputs": [],
   "source": [
    "np.save(\"actual_predicts_2.np\",actual_predicts)"
   ]
  },
  {
   "cell_type": "code",
   "execution_count": null,
   "metadata": {
    "collapsed": true
   },
   "outputs": [],
   "source": [
    "actual_predicts = np.load(\"actual_predicts.np.npy\")"
   ]
  },
  {
   "cell_type": "code",
   "execution_count": null,
   "metadata": {
    "collapsed": true
   },
   "outputs": [],
   "source": [
    "linreg2"
   ]
  },
  {
   "cell_type": "code",
   "execution_count": null,
   "metadata": {
    "collapsed": true
   },
   "outputs": [],
   "source": []
  }
 ],
 "metadata": {
  "kernelspec": {
   "display_name": "Python 3",
   "language": "python",
   "name": "python3"
  },
  "language_info": {
   "codemirror_mode": {
    "name": "ipython",
    "version": 3
   },
   "file_extension": ".py",
   "mimetype": "text/x-python",
   "name": "python",
   "nbconvert_exporter": "python",
   "pygments_lexer": "ipython3",
   "version": "3.6.4"
  }
 },
 "nbformat": 4,
 "nbformat_minor": 2
}
