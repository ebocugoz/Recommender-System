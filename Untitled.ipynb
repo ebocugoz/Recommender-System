{
 "cells": [
  {
   "cell_type": "markdown",
   "metadata": {},
   "source": [
    "### ML Project 2 - Recommender Systems - Surprise Library"
   ]
  },
  {
   "cell_type": "code",
   "execution_count": 2,
   "metadata": {},
   "outputs": [],
   "source": [
    "from surprise import *\n",
    "from surprise.model_selection import PredefinedKFold\n",
    "from surprise.model_selection import GridSearchCV\n",
    "\n",
    "import pandas as pd \n",
    "import numpy as np\n",
    "import math\n",
    "from implementations import *\n",
    "\n",
    "%load_ext autoreload\n",
    "%autoreload 2"
   ]
  },
  {
   "cell_type": "markdown",
   "metadata": {},
   "source": [
    "### Load Data"
   ]
  },
  {
   "cell_type": "code",
   "execution_count": 3,
   "metadata": {},
   "outputs": [],
   "source": [
    "train_file = \"data_train.csv\"\n",
    "submission_file = \"sampleSubmission.csv\"\n",
    "\n",
    "trainset, testset, df, toBeSubmitted = load_data(train_file, submission_file)"
   ]
  },
  {
   "cell_type": "markdown",
   "metadata": {},
   "source": [
    "### Select Algorithm"
   ]
  },
  {
   "cell_type": "code",
   "execution_count": 14,
   "metadata": {},
   "outputs": [],
   "source": [
    "# Select Algorithm\n",
    "#algo = SVDpp(n_epochs=30,lr_all=0.001,reg_all=0.001)\n",
    "\n",
    "algtype = SVD\n",
    "param_grid = {'n_epochs': [2],\n",
    "              'lr_all': [0.002],\n",
    "              'reg_all':[0.002],\n",
    "             }\n",
    "\n",
    "bsl_options = {'method': 'als','n_epochs': 20}\n",
    "sim_opt = {'name': 'pearson_baseline'}\n",
    "algo = KNNBasic(sim_options=sim_options)\n",
    "\n",
    "algtype = KNNBasic\n",
    "param_grid = {'n_epochs': [4, 5]}\n"
   ]
  },
  {
   "cell_type": "markdown",
   "metadata": {},
   "source": [
    "### Tune Hyperparameters via Grid Search"
   ]
  },
  {
   "cell_type": "code",
   "execution_count": 15,
   "metadata": {},
   "outputs": [
    {
     "name": "stdout",
     "output_type": "stream",
     "text": [
      "1.0317596993526121\n",
      "{'n_epochs': 4}\n"
     ]
    }
   ],
   "source": [
    "reader = Reader(rating_scale=(1, 5))\n",
    "data = Dataset.load_from_df(df[['User', 'Movie', 'Rating']], reader)\n",
    "#trainset, testset = train_test_split(data, test_size=.25, random_state=20)\n",
    "\n",
    "\n",
    "gs = GridSearchCV(algtype, param_grid, measures=['rmse', 'mae'], cv=3, n_jobs=-1)\n",
    "\n",
    "model = gs.fit(data)\n",
    "\n",
    "# best RMSE score\n",
    "print(gs.best_score['rmse'])\n",
    "\n",
    "# combination of parameters that gave the best RMSE score\n",
    "print(gs.best_params['rmse'])"
   ]
  },
  {
   "cell_type": "markdown",
   "metadata": {},
   "source": [
    "### Fit & Predict"
   ]
  },
  {
   "cell_type": "code",
   "execution_count": 19,
   "metadata": {},
   "outputs": [],
   "source": [
    "# Fit\n",
    "#algo = SVD(n_factors=factor ,n_epochs=epoch, lr_all=lr_rate, reg_all=reg_rate)\n",
    "algo = gs.best_estimator['rmse']\n",
    "\n",
    "model = algo.fit(trainset)\n",
    "  \n",
    "# Predict\n",
    "predictions = algo.test(testset)"
   ]
  },
  {
   "cell_type": "markdown",
   "metadata": {},
   "source": [
    "### Submit"
   ]
  },
  {
   "cell_type": "code",
   "execution_count": null,
   "metadata": {},
   "outputs": [],
   "source": [
    "# Create Submission file\n",
    "create_submission_file('submission_surprise', algo, predictions, toBeSubmitted)"
   ]
  },
  {
   "cell_type": "markdown",
   "metadata": {},
   "source": [
    "### Learn with Algorithms"
   ]
  },
  {
   "cell_type": "code",
   "execution_count": 31,
   "metadata": {},
   "outputs": [
    {
     "name": "stdout",
     "output_type": "stream",
     "text": [
      "1.0174805016024486\n",
      "{'n_factors': 1, 'n_epochs': 2, 'lr_all': 0.002, 'reg_all': 0.002}\n"
     ]
    }
   ],
   "source": [
    "algotype = SVD\n",
    "\n",
    "param_grid = {'n_factors': [1],\n",
    "              'n_epochs': [2],\n",
    "              'lr_all': [0.002],\n",
    "              'reg_all':[0.002],\n",
    "             }\n",
    "\n",
    "algo, predictions = learn(algotype, trainset, testset, df, param_grid)"
   ]
  },
  {
   "cell_type": "markdown",
   "metadata": {},
   "source": [
    "### Best Parameters"
   ]
  },
  {
   "cell_type": "code",
   "execution_count": null,
   "metadata": {},
   "outputs": [],
   "source": [
    "# Create Submission file\n",
    "create_submission_file('submission_surprise', algo, predictions, toBeSubmitted)"
   ]
  }
 ],
 "metadata": {
  "kernelspec": {
   "display_name": "Python 3",
   "language": "python",
   "name": "python3"
  },
  "language_info": {
   "codemirror_mode": {
    "name": "ipython",
    "version": 3
   },
   "file_extension": ".py",
   "mimetype": "text/x-python",
   "name": "python",
   "nbconvert_exporter": "python",
   "pygments_lexer": "ipython3",
   "version": "3.6.4"
  }
 },
 "nbformat": 4,
 "nbformat_minor": 2
}
