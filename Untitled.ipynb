{
 "cells": [
  {
   "cell_type": "code",
   "execution_count": 14,
   "metadata": {
    "collapsed": true
   },
   "outputs": [],
   "source": [
    "from surprise import SVD\n",
    "from surprise import *\n",
    "from surprise.model_selection import cross_validate\n",
    "from surprise.model_selection import GridSearchCV\n",
    "import pandas as pd \n",
    "import numpy as np\n",
    "import math\n",
    "from implementations import *"
   ]
  },
  {
   "cell_type": "code",
   "execution_count": 15,
   "metadata": {
    "collapsed": true
   },
   "outputs": [],
   "source": [
    "#Load Train& Test Data"
   ]
  },
  {
   "cell_type": "code",
   "execution_count": 23,
   "metadata": {
    "collapsed": true
   },
   "outputs": [],
   "source": [
    "df = pd.read_csv(\"data_train.csv\")\n",
    "df_test = pd.read_csv(\"data_test.csv\")"
   ]
  },
  {
   "cell_type": "code",
   "execution_count": 24,
   "metadata": {
    "collapsed": true
   },
   "outputs": [],
   "source": [
    "df['User'] = df['Id'].apply(lambda x: int(x.split('_')[0][1:]))\n",
    "df['Movie'] = df['Id'].apply(lambda x: int(x.split('_')[1][1:]))\n",
    "df['Rating'] = df['Prediction']\n",
    "df = df.drop(['Id', 'Prediction'], axis=1)"
   ]
  },
  {
   "cell_type": "code",
   "execution_count": 25,
   "metadata": {},
   "outputs": [],
   "source": [
    "df_test['User'] = df_test['Id'].apply(lambda x: int(x.split('_')[0][1:]))\n",
    "df_test['Movie'] = df_test['Id'].apply(lambda x: int(x.split('_')[1][1:]))\n",
    "df_test['Rating'] = df_test['Prediction']\n",
    "df_test = df_test.drop(['Id', 'Prediction'], axis=1)"
   ]
  },
  {
   "cell_type": "code",
   "execution_count": 26,
   "metadata": {},
   "outputs": [],
   "source": [
    "train_file = 'tmp_train.csv'\n",
    "header = ['user_id','item_id','rating']\n",
    "df.to_csv(train_file, index=False, header=False)\n",
    "ratings_df = pd.read_csv('tmp_train.csv',\n",
    "                          sep=',',\n",
    "                         names=header,\n",
    "                         \n",
    "                         dtype={\n",
    "                           'user_id': np.int32,\n",
    "                           'item_id': np.int32,\n",
    "                           'rating': np.float32,\n",
    "                           'timestamp': np.int32,\n",
    "                         })\n"
   ]
  },
  {
   "cell_type": "code",
   "execution_count": 27,
   "metadata": {
    "collapsed": true
   },
   "outputs": [],
   "source": [
    "test_file = 'tmp_test.csv'\n",
    "header = ['user_id','item_id','rating']\n",
    "df_test.to_csv(test_file, index=False, header=False)\n",
    "ratings_df_test = pd.read_csv('tmp_test.csv',\n",
    "                          sep=',',\n",
    "                         names=header,\n",
    "                         \n",
    "                         dtype={\n",
    "                           'user_id': np.int32,\n",
    "                           'item_id': np.int32,\n",
    "                           'rating': np.float32,\n",
    "                           'timestamp': np.int32,\n",
    "                         })\n",
    "\n"
   ]
  },
  {
   "cell_type": "code",
   "execution_count": 28,
   "metadata": {},
   "outputs": [],
   "source": [
    "reader = Reader(line_format='user item rating', sep=',')\n",
    "\n",
    "# Train and test set for Surprise\n",
    "# Load the data\n",
    "data = Dataset.load_from_file(train_file, reader=reader)\n",
    "\n"
   ]
  },
  {
   "cell_type": "code",
   "execution_count": 30,
   "metadata": {
    "collapsed": true
   },
   "outputs": [],
   "source": [
    "reader = Reader(line_format='user item rating', sep=',')\n",
    "\n",
    "# Train and test set for Surprise\n",
    "# Load the data\n",
    "data_test = Dataset.load_from_file(test_file, reader=reader)\n",
    "\n"
   ]
  },
  {
   "cell_type": "code",
   "execution_count": 38,
   "metadata": {
    "scrolled": true
   },
   "outputs": [],
   "source": [
    "from surprise.model_selection import PredefinedKFold\n",
    "\n",
    "fold = [(train_file, test_file)]\n",
    "data = Dataset.load_from_folds(fold, reader=reader)\n",
    "pkf = PredefinedKFold()\n",
    "    # Algorithm\n",
    "algo = SVD(n_epochs=30,lr_all=0.001,reg_all=0.001)\n",
    "\n",
    "    # Go through 1 fold\n",
    "for trainset, testset in  pkf.split(data):\n",
    "    # Train\n",
    "    algo.fit(trainset)\n",
    "\n",
    "    # Predict\n",
    "    predictions = algo.test(testset)"
   ]
  },
  {
   "cell_type": "code",
   "execution_count": 46,
   "metadata": {},
   "outputs": [],
   "source": [
    "pred = np.zeros(len(predictions))\n",
    "for i in range(len(predictions)):\n",
    "    val = predictions[i].est\n",
    "    if val > 5:\n",
    "        pred[i] = 5\n",
    "    elif val < 1:\n",
    "        pred[i] = 1\n",
    "    else:\n",
    "        pred[i] = val\n",
    "\n",
    "# Copy the test\n",
    "df_return = df_test.copy()\n",
    "\n",
    "df_return.Rating = np.round(pred)"
   ]
  },
  {
   "cell_type": "code",
   "execution_count": 58,
   "metadata": {},
   "outputs": [],
   "source": [
    "df_return.Rating = (np.round(pred)).astype(int)"
   ]
  },
  {
   "cell_type": "code",
   "execution_count": 59,
   "metadata": {},
   "outputs": [],
   "source": [
    "submission = submission_table(df_return, 'User', 'Movie', 'Rating')"
   ]
  },
  {
   "cell_type": "code",
   "execution_count": 60,
   "metadata": {},
   "outputs": [],
   "source": [
    "file_name = 'prediction.csv'\n",
    "submission.to_csv(file_name, index=False)"
   ]
  },
  {
   "cell_type": "code",
   "execution_count": 8,
   "metadata": {},
   "outputs": [
    {
     "name": "stdout",
     "output_type": "stream",
     "text": [
      "Estimating biases using als...\n",
      "Estimating biases using als...\n",
      "Estimating biases using als...\n",
      "Evaluating RMSE, MAE of algorithm BaselineOnly on 3 split(s).\n",
      "\n",
      "                  Fold 1  Fold 2  Fold 3  Mean    Std     \n",
      "RMSE (testset)    1.0012  0.9989  1.0009  1.0004  0.0010  \n",
      "MAE (testset)     0.8070  0.8046  0.8066  0.8061  0.0010  \n",
      "Fit time          2.23    2.51    2.48    2.41    0.13    \n",
      "Test time         3.49    3.15    3.57    3.40    0.18    \n"
     ]
    },
    {
     "data": {
      "text/plain": [
       "{'fit_time': (2.2266507148742676, 2.5131609439849854, 2.4830820560455322),\n",
       " 'test_mae': array([0.80696976, 0.80464064, 0.8066465 ]),\n",
       " 'test_rmse': array([1.00123978, 0.99891783, 1.00093192]),\n",
       " 'test_time': (3.489121913909912, 3.150202751159668, 3.566020965576172)}"
      ]
     },
     "execution_count": 8,
     "metadata": {},
     "output_type": "execute_result"
    }
   ],
   "source": [
    "\n",
    "# Algorithm\n",
    "cross_validate(BaselineOnly(), data, verbose=True,cv=3)"
   ]
  },
  {
   "cell_type": "code",
   "execution_count": 62,
   "metadata": {
    "scrolled": true
   },
   "outputs": [
    {
     "ename": "AttributeError",
     "evalue": "'DatasetUserFolds' object has no attribute 'raw_ratings'",
     "output_type": "error",
     "traceback": [
      "\u001b[0;31m---------------------------------------------------------------------------\u001b[0m",
      "\u001b[0;31mAttributeError\u001b[0m                            Traceback (most recent call last)",
      "\u001b[0;32m<ipython-input-62-28ddedb07651>\u001b[0m in \u001b[0;36m<module>\u001b[0;34m()\u001b[0m\n\u001b[1;32m      3\u001b[0m \u001b[0mgs\u001b[0m \u001b[0;34m=\u001b[0m \u001b[0mGridSearchCV\u001b[0m\u001b[0;34m(\u001b[0m\u001b[0mSVD\u001b[0m\u001b[0;34m,\u001b[0m \u001b[0mparam_grid\u001b[0m\u001b[0;34m,\u001b[0m \u001b[0mmeasures\u001b[0m\u001b[0;34m=\u001b[0m\u001b[0;34m[\u001b[0m\u001b[0;34m'rmse'\u001b[0m\u001b[0;34m,\u001b[0m \u001b[0;34m'mae'\u001b[0m\u001b[0;34m]\u001b[0m\u001b[0;34m,\u001b[0m \u001b[0mcv\u001b[0m\u001b[0;34m=\u001b[0m\u001b[0;36m3\u001b[0m\u001b[0;34m)\u001b[0m\u001b[0;34m\u001b[0m\u001b[0m\n\u001b[1;32m      4\u001b[0m \u001b[0;34m\u001b[0m\u001b[0m\n\u001b[0;32m----> 5\u001b[0;31m \u001b[0mgs\u001b[0m\u001b[0;34m.\u001b[0m\u001b[0mfit\u001b[0m\u001b[0;34m(\u001b[0m\u001b[0mdata\u001b[0m\u001b[0;34m)\u001b[0m\u001b[0;34m\u001b[0m\u001b[0m\n\u001b[0m\u001b[1;32m      6\u001b[0m \u001b[0;34m\u001b[0m\u001b[0m\n\u001b[1;32m      7\u001b[0m \u001b[0;31m# best RMSE score\u001b[0m\u001b[0;34m\u001b[0m\u001b[0;34m\u001b[0m\u001b[0m\n",
      "\u001b[0;32m~/anaconda3/lib/python3.6/site-packages/surprise/model_selection/search.py\u001b[0m in \u001b[0;36mfit\u001b[0;34m(self, data)\u001b[0m\n\u001b[1;32m     84\u001b[0m                                    self.return_train_measures)\n\u001b[1;32m     85\u001b[0m             for params, (trainset, testset) in product(self.param_combinations,\n\u001b[0;32m---> 86\u001b[0;31m                                                        cv.split(data))\n\u001b[0m\u001b[1;32m     87\u001b[0m         )\n\u001b[1;32m     88\u001b[0m         out = Parallel(n_jobs=self.n_jobs,\n",
      "\u001b[0;32m~/anaconda3/lib/python3.6/site-packages/surprise/model_selection/split.py\u001b[0m in \u001b[0;36msplit\u001b[0;34m(self, data)\u001b[0m\n\u001b[1;32m     93\u001b[0m         '''\n\u001b[1;32m     94\u001b[0m \u001b[0;34m\u001b[0m\u001b[0m\n\u001b[0;32m---> 95\u001b[0;31m         \u001b[0;32mif\u001b[0m \u001b[0mself\u001b[0m\u001b[0;34m.\u001b[0m\u001b[0mn_splits\u001b[0m \u001b[0;34m>\u001b[0m \u001b[0mlen\u001b[0m\u001b[0;34m(\u001b[0m\u001b[0mdata\u001b[0m\u001b[0;34m.\u001b[0m\u001b[0mraw_ratings\u001b[0m\u001b[0;34m)\u001b[0m \u001b[0;32mor\u001b[0m \u001b[0mself\u001b[0m\u001b[0;34m.\u001b[0m\u001b[0mn_splits\u001b[0m \u001b[0;34m<\u001b[0m \u001b[0;36m2\u001b[0m\u001b[0;34m:\u001b[0m\u001b[0;34m\u001b[0m\u001b[0m\n\u001b[0m\u001b[1;32m     96\u001b[0m             raise ValueError('Incorrect value for n_splits={0}. '\n\u001b[1;32m     97\u001b[0m                              \u001b[0;34m'Must be >=2 and less than the number '\u001b[0m\u001b[0;34m\u001b[0m\u001b[0m\n",
      "\u001b[0;31mAttributeError\u001b[0m: 'DatasetUserFolds' object has no attribute 'raw_ratings'"
     ]
    }
   ],
   "source": [
    "param_grid = {'n_epochs': [5, 50], 'lr_all': [0.00001, 0.005],\n",
    "              'reg_all': [0.00001, 0.001]}\n",
    "gs = GridSearchCV(SVD, param_grid, measures=['rmse', 'mae'], cv=3)\n",
    "\n",
    "gs.fit(data)\n",
    "\n",
    "# best RMSE score\n",
    "print(gs.best_score['rmse'])\n",
    "\n",
    "# combination of parameters that gave the best RMSE score\n",
    "print(gs.best_params['rmse'])"
   ]
  },
  {
   "cell_type": "code",
   "execution_count": 7,
   "metadata": {},
   "outputs": [
    {
     "name": "stdout",
     "output_type": "stream",
     "text": [
      "Evaluating RMSE, MAE of algorithm SVD on 3 split(s).\n",
      "\n",
      "                  Fold 1  Fold 2  Fold 3  Mean    Std     \n",
      "RMSE (testset)    1.0102  1.0120  1.0105  1.0109  0.0008  \n",
      "MAE (testset)     0.8127  0.8144  0.8135  0.8135  0.0007  \n",
      "Fit time          84.93   85.50   89.38   86.60   1.98    \n",
      "Test time         4.76    5.34    4.94    5.01    0.24    \n"
     ]
    },
    {
     "data": {
      "text/plain": [
       "{'fit_time': (84.93000197410583, 85.50123476982117, 89.38259482383728),\n",
       " 'test_mae': array([0.81272794, 0.81441739, 0.81346938]),\n",
       " 'test_rmse': array([1.01018314, 1.01204203, 1.01050326]),\n",
       " 'test_time': (4.756395101547241, 5.338842153549194, 4.940993070602417)}"
      ]
     },
     "execution_count": 7,
     "metadata": {},
     "output_type": "execute_result"
    }
   ],
   "source": [
    "cross_validate(SVD(n_epochs=30,lr_all=0.001,reg_all=0.001), data, verbose=True,cv=3)"
   ]
  },
  {
   "cell_type": "code",
   "execution_count": 9,
   "metadata": {
    "collapsed": true
   },
   "outputs": [],
   "source": [
    "algo = SVD(n_epochs=30, lr_all=0.001, reg_all=0.001)"
   ]
  },
  {
   "cell_type": "code",
   "execution_count": 13,
   "metadata": {},
   "outputs": [
    {
     "data": {
      "text/plain": [
       "<generator object Dataset.folds at 0x1261eb410>"
      ]
     },
     "execution_count": 13,
     "metadata": {},
     "output_type": "execute_result"
    }
   ],
   "source": [
    "data.folds()"
   ]
  },
  {
   "cell_type": "code",
   "execution_count": 17,
   "metadata": {},
   "outputs": [
    {
     "name": "stdout",
     "output_type": "stream",
     "text": [
      "Estimating biases using als...\n",
      "Estimating biases using als...\n",
      "Estimating biases using als...\n",
      "Evaluating RMSE, MAE of algorithm BaselineOnly on 3 split(s).\n",
      "\n",
      "                  Fold 1  Fold 2  Fold 3  Mean    Std     \n",
      "RMSE (testset)    0.9994  1.0012  1.0001  1.0002  0.0007  \n",
      "MAE (testset)     0.8053  0.8068  0.8057  0.8060  0.0006  \n",
      "Fit time          2.38    2.75    2.76    2.63    0.17    \n",
      "Test time         4.33    4.15    3.72    4.06    0.26    \n"
     ]
    },
    {
     "data": {
      "text/plain": [
       "{'fit_time': (2.384819984436035, 2.7514288425445557, 2.758358955383301),\n",
       " 'test_mae': array([ 0.80532221,  0.80683905,  0.80573148]),\n",
       " 'test_rmse': array([ 0.99935076,  1.00115189,  1.00005555]),\n",
       " 'test_time': (4.326732873916626, 4.1499340534210205, 3.7171547412872314)}"
      ]
     },
     "execution_count": 17,
     "metadata": {},
     "output_type": "execute_result"
    }
   ],
   "source": [
    "cross_validate(BaselineOnly(), data, verbose=True,cv=3)"
   ]
  },
  {
   "cell_type": "code",
   "execution_count": 63,
   "metadata": {
    "collapsed": true
   },
   "outputs": [],
   "source": [
    "from spotlight.cross_validation import user_based_train_test_split\n",
    "from spotlight.datasets.synthetic import generate_sequential\n",
    "from spotlight.evaluation import sequence_mrr_score\n",
    "from spotlight.sequence.implicit import ImplicitSequenceModel"
   ]
  },
  {
   "cell_type": "code",
   "execution_count": 64,
   "metadata": {
    "collapsed": true
   },
   "outputs": [],
   "source": [
    "dataset = generate_sequential(num_users=100,\n",
    "                              num_items=1000,\n",
    "                              num_interactions=10000,\n",
    "                              concentration_parameter=0.01,\n",
    "                              order=3)"
   ]
  },
  {
   "cell_type": "code",
   "execution_count": 65,
   "metadata": {},
   "outputs": [
    {
     "data": {
      "text/plain": [
       "<Interactions dataset (100 users x 1000 items x 10000 interactions)>"
      ]
     },
     "execution_count": 65,
     "metadata": {},
     "output_type": "execute_result"
    }
   ],
   "source": [
    "dataset"
   ]
  },
  {
   "cell_type": "code",
   "execution_count": 105,
   "metadata": {
    "collapsed": true
   },
   "outputs": [],
   "source": [
    "import numpy as np\n",
    "\n",
    "from spotlight.datasets.movielens import get_movielens_dataset\n",
    "dataset = get_movielens_dataset(variant='100K')"
   ]
  },
  {
   "cell_type": "code",
   "execution_count": 109,
   "metadata": {},
   "outputs": [
    {
     "data": {
      "text/plain": [
       "array([881250949, 891717742, 878887116, ..., 874795795, 882399156,\n",
       "       879959583], dtype=int32)"
      ]
     },
     "execution_count": 109,
     "metadata": {},
     "output_type": "execute_result"
    }
   ],
   "source": [
    "dataset.timestamps"
   ]
  },
  {
   "cell_type": "code",
   "execution_count": 70,
   "metadata": {
    "collapsed": true
   },
   "outputs": [],
   "source": [
    "from spotlight.datasets import _transport\n",
    "from spotlight.interactions import Interactions"
   ]
  },
  {
   "cell_type": "code",
   "execution_count": 102,
   "metadata": {
    "collapsed": true
   },
   "outputs": [],
   "source": [
    "userid = df.values[:,0].astype(np.int32)\n",
    "movieid = df.values[:,1].astype(np.int32)\n",
    "rating = df.values[:,2].astype(np.int32)"
   ]
  },
  {
   "cell_type": "code",
   "execution_count": 103,
   "metadata": {
    "collapsed": true
   },
   "outputs": [],
   "source": [
    "dataset = Interactions(userid,movieid,rating)"
   ]
  },
  {
   "cell_type": "code",
   "execution_count": 104,
   "metadata": {
    "scrolled": true
   },
   "outputs": [
    {
     "ename": "ValueError",
     "evalue": "Cannot convert to sequences, timestamps not available.",
     "output_type": "error",
     "traceback": [
      "\u001b[0;31m---------------------------------------------------------------------------\u001b[0m",
      "\u001b[0;31mValueError\u001b[0m                                Traceback (most recent call last)",
      "\u001b[0;32m<ipython-input-104-51acdbf74a03>\u001b[0m in \u001b[0;36m<module>\u001b[0;34m()\u001b[0m\n\u001b[1;32m      1\u001b[0m \u001b[0mtrain\u001b[0m\u001b[0;34m,\u001b[0m \u001b[0mtest\u001b[0m \u001b[0;34m=\u001b[0m \u001b[0muser_based_train_test_split\u001b[0m\u001b[0;34m(\u001b[0m\u001b[0mdataset\u001b[0m\u001b[0;34m)\u001b[0m\u001b[0;34m\u001b[0m\u001b[0m\n\u001b[1;32m      2\u001b[0m \u001b[0;34m\u001b[0m\u001b[0m\n\u001b[0;32m----> 3\u001b[0;31m \u001b[0mtrain\u001b[0m \u001b[0;34m=\u001b[0m \u001b[0mtrain\u001b[0m\u001b[0;34m.\u001b[0m\u001b[0mto_sequence\u001b[0m\u001b[0;34m(\u001b[0m\u001b[0;34m)\u001b[0m\u001b[0;34m\u001b[0m\u001b[0m\n\u001b[0m\u001b[1;32m      4\u001b[0m \u001b[0mtest\u001b[0m \u001b[0;34m=\u001b[0m \u001b[0mtest\u001b[0m\u001b[0;34m.\u001b[0m\u001b[0mto_sequence\u001b[0m\u001b[0;34m(\u001b[0m\u001b[0;34m)\u001b[0m\u001b[0;34m\u001b[0m\u001b[0m\n\u001b[1;32m      5\u001b[0m \u001b[0;34m\u001b[0m\u001b[0m\n",
      "\u001b[0;32m~/anaconda3/lib/python3.6/site-packages/spotlight/interactions.py\u001b[0m in \u001b[0;36mto_sequence\u001b[0;34m(self, max_sequence_length, min_sequence_length, step_size)\u001b[0m\n\u001b[1;32m    221\u001b[0m \u001b[0;34m\u001b[0m\u001b[0m\n\u001b[1;32m    222\u001b[0m         \u001b[0;32mif\u001b[0m \u001b[0mself\u001b[0m\u001b[0;34m.\u001b[0m\u001b[0mtimestamps\u001b[0m \u001b[0;32mis\u001b[0m \u001b[0;32mNone\u001b[0m\u001b[0;34m:\u001b[0m\u001b[0;34m\u001b[0m\u001b[0m\n\u001b[0;32m--> 223\u001b[0;31m             raise ValueError('Cannot convert to sequences, '\n\u001b[0m\u001b[1;32m    224\u001b[0m                              'timestamps not available.')\n\u001b[1;32m    225\u001b[0m \u001b[0;34m\u001b[0m\u001b[0m\n",
      "\u001b[0;31mValueError\u001b[0m: Cannot convert to sequences, timestamps not available."
     ]
    }
   ],
   "source": [
    "train, test = user_based_train_test_split(dataset)\n",
    "\n",
    "train = train.to_sequence()\n",
    "test = test.to_sequence()\n",
    "\n",
    "model = ImplicitSequenceModel(n_iter=3,\n",
    "                              representation='cnn',\n",
    "                              loss='bpr')\n",
    "model.fit(train)"
   ]
  },
  {
   "cell_type": "markdown",
   "metadata": {},
   "source": [
    "## Tensorflow example\n"
   ]
  },
  {
   "cell_type": "code",
   "execution_count": 63,
   "metadata": {
    "collapsed": true
   },
   "outputs": [],
   "source": [
    "df = pd.read_csv(\"data_train.csv\")"
   ]
  },
  {
   "cell_type": "code",
   "execution_count": 64,
   "metadata": {
    "collapsed": true
   },
   "outputs": [],
   "source": [
    "df['User'] = df['Id'].apply(lambda x: int(x.split('_')[0][1:]))\n",
    "df['Movie'] = df['Id'].apply(lambda x: int(x.split('_')[1][1:]))\n",
    "df['Rating'] = df['Prediction']\n",
    "df = df.drop(['Id', 'Prediction'], axis=1)"
   ]
  },
  {
   "cell_type": "code",
   "execution_count": 65,
   "metadata": {
    "collapsed": true
   },
   "outputs": [],
   "source": [
    "train_file = 'tmp_train.csv'\n",
    "header = ['user_id','item_id','rating']\n",
    "df.to_csv(train_file, index=False, header=False)\n",
    "ratings_df = pd.read_csv('tmp_train.csv',\n",
    "                          sep=',',\n",
    "                         names=header,\n",
    "                         \n",
    "                         dtype={\n",
    "                           'user_id': np.int32,\n",
    "                           'item_id': np.int32,\n",
    "                           'rating': np.float32,\n",
    "                           'timestamp': np.int32,\n",
    "                         })\n"
   ]
  },
  {
   "cell_type": "code",
   "execution_count": 66,
   "metadata": {},
   "outputs": [
    {
     "name": "stderr",
     "output_type": "stream",
     "text": [
      "/Users/erdembocugoz/anaconda3/lib/python3.6/site-packages/ipykernel_launcher.py:1: FutureWarning: Method .as_matrix will be removed in a future version. Use .values instead.\n",
      "  \"\"\"Entry point for launching an IPython kernel.\n"
     ]
    }
   ],
   "source": [
    "ratings = ratings_df.as_matrix(['user_id', 'item_id', 'rating'])"
   ]
  },
  {
   "cell_type": "code",
   "execution_count": 67,
   "metadata": {
    "collapsed": true
   },
   "outputs": [],
   "source": [
    "ratings[:,0] -= 1\n",
    "ratings[:,1] -= 1"
   ]
  },
  {
   "cell_type": "markdown",
   "metadata": {},
   "source": [
    "#### The 1m and 20m MovieLens datasets skip some user and item IDs. This creates a problem: you have to map the set of unique user IDs to an index set equal to [0 ... num_users-1] and do the same for item IDs. The item mapping is accomplished using the following [numpy](http://www.numpy.org/) code. The code creates an array of size [0..max_item_id] to perform the mapping, so if the maximum item ID is very large, this method might use too much memory."
   ]
  },
  {
   "cell_type": "code",
   "execution_count": 68,
   "metadata": {},
   "outputs": [
    {
     "name": "stderr",
     "output_type": "stream",
     "text": [
      "/Users/erdembocugoz/anaconda3/lib/python3.6/site-packages/ipykernel_launcher.py:1: FutureWarning: Method .as_matrix will be removed in a future version. Use .values instead.\n",
      "  \"\"\"Entry point for launching an IPython kernel.\n"
     ]
    }
   ],
   "source": [
    "np_items = ratings_df.item_id.as_matrix()\n",
    "unique_items = np.unique(np_items)\n",
    "n_items = unique_items.shape[0]\n",
    "max_item = unique_items[-1]\n",
    "\n",
    "# map unique items down to an array 0..n_items-1\n",
    "z = np.zeros(max_item+1, dtype=int)\n",
    "z[unique_items] = np.arange(n_items)\n",
    "i_r = z[np_items]"
   ]
  },
  {
   "cell_type": "code",
   "execution_count": 69,
   "metadata": {},
   "outputs": [
    {
     "name": "stderr",
     "output_type": "stream",
     "text": [
      "/Users/erdembocugoz/anaconda3/lib/python3.6/site-packages/ipykernel_launcher.py:1: FutureWarning: Method .as_matrix will be removed in a future version. Use .values instead.\n",
      "  \"\"\"Entry point for launching an IPython kernel.\n"
     ]
    }
   ],
   "source": [
    "np_users = ratings_df.user_id.as_matrix()\n",
    "unique_users = np.unique(np_users)\n",
    "n_users = unique_users.shape[0]\n",
    "max_user = unique_users[-1]\n",
    "\n",
    "# map unique items down to an array 0..n_items-1\n",
    "z = np.zeros(max_user+1, dtype=int)\n",
    "z[unique_users] = np.arange(n_users)\n",
    "i_r = z[np_users]"
   ]
  },
  {
   "cell_type": "markdown",
   "metadata": {
    "collapsed": true
   },
   "source": [
    "#### The model code randomly selects a test set of ratings. By default, 10% of the ratings are chosen for the test set. These ratings are removed from the training set and will be used to evaluate the predictive accuracy of the user and item factors."
   ]
  },
  {
   "cell_type": "code",
   "execution_count": 70,
   "metadata": {
    "collapsed": true
   },
   "outputs": [],
   "source": [
    "test_set_size = int(len(ratings) / 10)\n",
    "test_set_idx = np.random.choice(range(len(ratings)),\n",
    "                                size=test_set_size, replace=False)\n",
    "test_set_idx = sorted(test_set_idx)\n",
    "\n",
    "ts_ratings = ratings[test_set_idx]\n",
    "tr_ratings = np.delete(ratings, test_set_idx, axis=0)"
   ]
  },
  {
   "cell_type": "markdown",
   "metadata": {},
   "source": [
    "#### Finally, the code creates a scipy sparse matrix in coordinate form (coo_matrix) that includes the user and item indexes and ratings. The coo_matrix object acts as a wrapper for a sparse matrix. It also performs validation of the user and ratings indexes, checking for errors in preprocessing."
   ]
  },
  {
   "cell_type": "code",
   "execution_count": 71,
   "metadata": {
    "collapsed": true
   },
   "outputs": [],
   "source": [
    "from scipy.sparse import coo_matrix\n",
    "u_tr, i_tr, r_tr = zip(*tr_ratings)\n",
    "u_te, i_te, r_te= zip(*ts_ratings)\n",
    "tr_sparse = coo_matrix((r_tr, (u_tr, i_tr)), shape=(n_users, n_items))\n",
    "te_sparse = coo_matrix((r_te, (u_te, i_te)), shape=(n_users, n_items))"
   ]
  },
  {
   "cell_type": "code",
   "execution_count": 72,
   "metadata": {},
   "outputs": [
    {
     "data": {
      "text/plain": [
       "<10000x1000 sparse matrix of type '<class 'numpy.float64'>'\n",
       "\twith 1059257 stored elements in COOrdinate format>"
      ]
     },
     "execution_count": 72,
     "metadata": {},
     "output_type": "execute_result"
    }
   ],
   "source": [
    "tr_sparse"
   ]
  },
  {
   "cell_type": "markdown",
   "metadata": {},
   "source": [
    "### Now Weighted Alternating Squares method by using Tensorflow"
   ]
  },
  {
   "cell_type": "code",
   "execution_count": 73,
   "metadata": {
    "collapsed": true
   },
   "outputs": [],
   "source": [
    "import tensorflow as tf"
   ]
  },
  {
   "cell_type": "code",
   "execution_count": 74,
   "metadata": {
    "collapsed": true
   },
   "outputs": [],
   "source": [
    "indice = list(zip(tr_sparse.row, tr_sparse.col))"
   ]
  },
  {
   "cell_type": "code",
   "execution_count": 75,
   "metadata": {
    "collapsed": true
   },
   "outputs": [],
   "source": [
    "def make_wts(data, wt_type, obs_wt, feature_wt_exp, axis):\n",
    "    \"\"\"Generate observed item weights.\n",
    "    Args:\n",
    "    data:             coo_matrix of ratings data\n",
    "    wt_type:          weight type, LOG_RATINGS or LINEAR_RATINGS\n",
    "    obs_wt:           linear weight factor\n",
    "    feature_wt_exp:   logarithmic weight factor\n",
    "    axis:             axis to make weights for, 1=rows/users, 0=cols/items\n",
    "    Returns:\n",
    "    vector of weights for cols (items) or rows (users)\n",
    "    \"\"\"\n",
    "    # recipricol of sum of number of items across rows (if axis is 0)\n",
    "    frac = np.array(1.0/(data > 0.0).sum(axis))\n",
    "\n",
    "    # filter any invalid entries\n",
    "    frac[np.ma.masked_invalid(frac).mask] = 0.0\n",
    "\n",
    "    # normalize weights according to assumed distribution of ratings\n",
    "    if wt_type == \"LOG_RATINGS\":\n",
    "        wts = np.array(np.power(frac, feature_wt_exp)).flatten()\n",
    "    else:\n",
    "        wts = np.array(obs_wt * frac).flatten()\n",
    "\n",
    "    # check again for any numerically unstable entries\n",
    "    assert np.isfinite(wts).sum() == wts.shape[0]\n",
    "    return wts"
   ]
  },
  {
   "cell_type": "code",
   "execution_count": 78,
   "metadata": {
    "collapsed": true
   },
   "outputs": [],
   "source": [
    "dim = 34\n",
    "num_iters = 20\n",
    "reg = 9.83\n",
    "unobs = 0.001\n",
    "wt_type = 1\n",
    "feature_wt_factor =  189.8\n",
    "feature_wt_exp = 0\n",
    "obs_wt = 100\n",
    "num_rows = tr_sparse.shape[0]\n",
    "num_cols = tr_sparse.shape[1]"
   ]
  },
  {
   "cell_type": "code",
   "execution_count": 79,
   "metadata": {},
   "outputs": [],
   "source": [
    "##Note that data is sparse matrix created by coo_matrix\n",
    "input_tensor = tf.SparseTensor(indices=indice,\n",
    "                                values=(tr_sparse.data).astype(np.float32),\n",
    "                                dense_shape=tr_sparse.shape)\n",
    "assert feature_wt_exp is not None\n",
    "row_wts = np.ones(num_rows)\n",
    "col_wts = make_wts(tr_sparse, \"LINEAR_RATINGS\", feature_wt_factor , None, 0)"
   ]
  },
  {
   "cell_type": "code",
   "execution_count": 80,
   "metadata": {
    "collapsed": true
   },
   "outputs": [],
   "source": [
    "model =  tf.contrib.factorization.WALSModel(num_rows, num_cols, dim,\n",
    "                                    unobserved_weight=unobs,\n",
    "                                    regularization=reg,\n",
    "                                    row_weights=row_wts,\n",
    "                                    col_weights=col_wts)"
   ]
  },
  {
   "cell_type": "code",
   "execution_count": 81,
   "metadata": {
    "collapsed": true
   },
   "outputs": [],
   "source": [
    "# retrieve the row and column factors\n",
    "row_factor = model.row_factors[0]\n",
    "col_factor = model.col_factors[0]"
   ]
  },
  {
   "cell_type": "code",
   "execution_count": null,
   "metadata": {
    "collapsed": true
   },
   "outputs": [],
   "source": []
  },
  {
   "cell_type": "code",
   "execution_count": 82,
   "metadata": {
    "collapsed": true
   },
   "outputs": [],
   "source": [
    "row_update_op = model.update_row_factors(sp_input=input_tensor)[1]\n",
    "col_update_op = model.update_col_factors(sp_input=input_tensor)[1]\n",
    "sess = tf.Session(graph=input_tensor.graph)\n",
    "sess.run(model.initialize_op)\n",
    "sess.run(model.worker_init)\n",
    "for _ in range(num_iters):\n",
    "    sess.run(model.row_update_prep_gramian_op)\n",
    "    sess.run(model.initialize_row_update_op)\n",
    "    sess.run(row_update_op)\n",
    "    sess.run(model.col_update_prep_gramian_op)\n",
    "    sess.run(model.initialize_col_update_op)\n",
    "    sess.run(col_update_op)"
   ]
  },
  {
   "cell_type": "code",
   "execution_count": 83,
   "metadata": {
    "collapsed": true
   },
   "outputs": [],
   "source": [
    "# evaluate output factor matrices\n",
    "output_row = row_factor.eval(session=sess)\n",
    "output_col = col_factor.eval(session=sess)\n",
    "sess.close()"
   ]
  },
  {
   "cell_type": "code",
   "execution_count": 84,
   "metadata": {
    "collapsed": true
   },
   "outputs": [],
   "source": [
    "def get_rmse(output_row, output_col, actual):\n",
    "    \"\"\"Compute rmse between predicted and actual ratings.\n",
    "      Args:\n",
    "        output_row: evaluated numpy array of row_factor\n",
    "        output_col: evaluated numpy array of col_factor\n",
    "        actual: coo_matrix of actual (test) values\n",
    "      Returns:\n",
    "        rmse\n",
    "      \"\"\"\n",
    "    mse = 0\n",
    "    for i in range(actual.data.shape[0]):\n",
    "        row_pred = output_row[actual.row[i]]\n",
    "        col_pred = output_col[actual.col[i]]\n",
    "        err = actual.data[i] - np.dot(row_pred, col_pred)\n",
    "        mse += err * err\n",
    "    mse /= actual.data.shape[0]\n",
    "    rmse = math.sqrt(mse)\n",
    "    return rmse"
   ]
  },
  {
   "cell_type": "code",
   "execution_count": 85,
   "metadata": {},
   "outputs": [
    {
     "data": {
      "text/plain": [
       "1.0741645152967576"
      ]
     },
     "execution_count": 85,
     "metadata": {},
     "output_type": "execute_result"
    }
   ],
   "source": [
    " get_rmse(output_row, output_col, te_sparse)"
   ]
  },
  {
   "cell_type": "code",
   "execution_count": 86,
   "metadata": {
    "scrolled": true
   },
   "outputs": [
    {
     "name": "stderr",
     "output_type": "stream",
     "text": [
      "/Users/erdembocugoz/anaconda3/lib/python3.6/site-packages/sklearn/ensemble/weight_boosting.py:29: DeprecationWarning: numpy.core.umath_tests is an internal NumPy module and should not be imported. It will be removed in a future NumPy release.\n",
      "  from numpy.core.umath_tests import inner1d\n"
     ]
    }
   ],
   "source": [
    "from skopt.space import Real, Integer\n",
    "from skopt.utils import use_named_args\n"
   ]
  },
  {
   "cell_type": "code",
   "execution_count": 87,
   "metadata": {
    "collapsed": true
   },
   "outputs": [],
   "source": [
    "def make_wts(data, wt_type, obs_wt, feature_wt_exp, axis):\n",
    "    \"\"\"Generate observed item weights.\n",
    "    Args:\n",
    "    data:             coo_matrix of ratings data\n",
    "    wt_type:          weight type, LOG_RATINGS or LINEAR_RATINGS\n",
    "    obs_wt:           linear weight factor\n",
    "    feature_wt_exp:   logarithmic weight factor\n",
    "    axis:             axis to make weights for, 1=rows/users, 0=cols/items\n",
    "    Returns:\n",
    "    vector of weights for cols (items) or rows (users)\n",
    "    \"\"\"\n",
    "    # recipricol of sum of number of items across rows (if axis is 0)\n",
    "    frac = np.array(1.0/(data > 0.0).sum(axis))\n",
    "\n",
    "    # filter any invalid entries\n",
    "    frac[np.ma.masked_invalid(frac).mask] = 0.0\n",
    "\n",
    "    # normalize weights according to assumed distribution of ratings\n",
    "    if wt_type == \"LOG_RATINGS\":\n",
    "        wts = np.array(np.power(frac, feature_wt_exp)).flatten()\n",
    "    else:\n",
    "        wts = np.array(obs_wt * frac).flatten()\n",
    "\n",
    "    # check again for any numerically unstable entries\n",
    "    assert np.isfinite(wts).sum() == wts.shape[0]\n",
    "    return wts"
   ]
  },
  {
   "cell_type": "code",
   "execution_count": 88,
   "metadata": {
    "collapsed": true
   },
   "outputs": [],
   "source": [
    "def get_rmse(output_row, output_col, actual):\n",
    "    \"\"\"Compute rmse between predicted and actual ratings.\n",
    "      Args:\n",
    "        output_row: evaluated numpy array of row_factor\n",
    "        output_col: evaluated numpy array of col_factor\n",
    "        actual: coo_matrix of actual (test) values\n",
    "      Returns:\n",
    "        rmse\n",
    "      \"\"\"\n",
    "    mse = 0\n",
    "    for i in range(actual.data.shape[0]):\n",
    "        row_pred = output_row[actual.row[i]]\n",
    "        col_pred = output_col[actual.col[i]]\n",
    "        err = actual.data[i] - np.dot(row_pred, col_pred)\n",
    "        mse += err * err\n",
    "    mse /= actual.data.shape[0]\n",
    "    rmse = math.sqrt(mse)\n",
    "    return rmse"
   ]
  },
  {
   "cell_type": "code",
   "execution_count": 89,
   "metadata": {
    "collapsed": true
   },
   "outputs": [],
   "source": [
    "\n",
    "def model_build(dim=34,num_iters=20,reg=9.83,unobs=0.001,wt_type=1,feature_wt_factor=189.8,obs_wt=100):\n",
    "\tindice = list(zip(tr_sparse.row, tr_sparse.col))\n",
    "\n",
    "\n",
    "\t# In[338]:\n",
    "\n",
    "\n",
    "\t\n",
    "\n",
    "\n",
    "\t# In[348]:\n",
    "\n",
    "\n",
    "\n",
    "\tnum_rows = tr_sparse.shape[0]\n",
    "\tnum_cols = tr_sparse.shape[1]\n",
    "\n",
    "\n",
    "\t# In[341]:\n",
    "\n",
    "\n",
    "\t##Note that data is sparse matrix created by coo_matrix\n",
    "\tinput_tensor = tf.SparseTensor(indices=indice,\n",
    "\t                                values=(tr_sparse.data).astype(np.float32),\n",
    "\t                                dense_shape=tr_sparse.shape)\n",
    "\tassert feature_wt_exp is not None\n",
    "\trow_wts = np.ones(num_rows)\n",
    "\tcol_wts = make_wts(tr_sparse, \"LINEAR_RATINGS\", feature_wt_factor , None, 0)\n",
    "\n",
    "\n",
    "\t# In[342]:\n",
    "\n",
    "\n",
    "\tmodel =  tf.contrib.factorization.WALSModel(num_rows, num_cols, dim,\n",
    "\t                                    unobserved_weight=unobs,\n",
    "\t                                    regularization=reg,\n",
    "\t                                    row_weights=row_wts,\n",
    "\t                                    col_weights=col_wts)\n",
    "\n",
    "\n",
    "\t# In[343]:\n",
    "\n",
    "\n",
    "\t# retrieve the row and column factors\n",
    "\trow_factor = model.row_factors[0]\n",
    "\tcol_factor = model.col_factors[0]\n",
    "\n",
    "\n",
    "\t# In[349]:\n",
    "\n",
    "\n",
    "\trow_update_op = model.update_row_factors(sp_input=input_tensor)[1]\n",
    "\tcol_update_op = model.update_col_factors(sp_input=input_tensor)[1]\n",
    "\tsess = tf.Session(graph=input_tensor.graph)\n",
    "\tsess.run(model.initialize_op)\n",
    "\tsess.run(model.worker_init)\n",
    "\tfor _ in range(num_iters):\n",
    "\t    sess.run(model.row_update_prep_gramian_op)\n",
    "\t    sess.run(model.initialize_row_update_op)\n",
    "\t    sess.run(row_update_op)\n",
    "\t    sess.run(model.col_update_prep_gramian_op)\n",
    "\t    sess.run(model.initialize_col_update_op)\n",
    "\t    sess.run(col_update_op)\n",
    "\n",
    "\n",
    "\t# In[350]:\n",
    "\n",
    "\n",
    "\t# evaluate output factor matrices\n",
    "\toutput_row = row_factor.eval(session=sess)\n",
    "\toutput_col = col_factor.eval(session=sess)\n",
    "\tsess.close()\n",
    "\n",
    "\n",
    "\t# In[351]:\n",
    "\n",
    "\n",
    "\t\n",
    "\n",
    "\n",
    "\t# In[352]:\n",
    "\n",
    "\n",
    "\trmse = get_rmse(output_row, output_col, te_sparse)\n",
    "\tprint(rmse)\n",
    "\treturn rmse"
   ]
  },
  {
   "cell_type": "code",
   "execution_count": null,
   "metadata": {
    "collapsed": true
   },
   "outputs": [],
   "source": []
  },
  {
   "cell_type": "code",
   "execution_count": 90,
   "metadata": {
    "collapsed": true
   },
   "outputs": [],
   "source": [
    "space  = [Integer(1, 5, name='dim'),\n",
    "          Real(0.001, 10.0, \"log-uniform\", name='reg'),\n",
    "          Real(0.001, 5.0,\"log-uniform\", name='unobs'),\n",
    "          Real(1, 200,\"log-uniform\", name='feature_wt_factor')]\n",
    "\n",
    "# this decorator allows your objective function to receive a the parameters as\n",
    "# keyword arguments. This is particularly convenient when you want to set scikit-learn\n",
    "# estimator parameters\n",
    "@use_named_args(space)\n",
    "def objective(**params):\n",
    "    return model_build(**params)"
   ]
  },
  {
   "cell_type": "code",
   "execution_count": 92,
   "metadata": {},
   "outputs": [
    {
     "name": "stdout",
     "output_type": "stream",
     "text": [
      "Iteration No: 1 started. Evaluating function at random point.\n",
      "3.123470723015996\n",
      "Iteration No: 1 ended. Evaluation done at random point.\n",
      "Time taken: 16.3662\n",
      "Function value obtained: 3.1235\n",
      "Current minimum: 3.1235\n",
      "Iteration No: 2 started. Evaluating function at random point.\n",
      "3.1088084277548984\n",
      "Iteration No: 2 ended. Evaluation done at random point.\n",
      "Time taken: 17.6043\n",
      "Function value obtained: 3.1088\n",
      "Current minimum: 3.1088\n",
      "Iteration No: 3 started. Evaluating function at random point.\n",
      "3.1549909405528895\n",
      "Iteration No: 3 ended. Evaluation done at random point.\n",
      "Time taken: 16.7208\n",
      "Function value obtained: 3.1550\n",
      "Current minimum: 3.1088\n",
      "Iteration No: 4 started. Evaluating function at random point.\n",
      "2.694000035736684\n",
      "Iteration No: 4 ended. Evaluation done at random point.\n",
      "Time taken: 16.9144\n",
      "Function value obtained: 2.6940\n",
      "Current minimum: 2.6940\n",
      "Iteration No: 5 started. Evaluating function at random point.\n",
      "1.4212751994492396\n",
      "Iteration No: 5 ended. Evaluation done at random point.\n",
      "Time taken: 17.0605\n",
      "Function value obtained: 1.4213\n",
      "Current minimum: 1.4213\n",
      "Iteration No: 6 started. Evaluating function at random point.\n",
      "3.0006195954974006\n",
      "Iteration No: 6 ended. Evaluation done at random point.\n",
      "Time taken: 17.7458\n",
      "Function value obtained: 3.0006\n",
      "Current minimum: 1.4213\n",
      "Iteration No: 7 started. Evaluating function at random point.\n",
      "2.9340686249398575\n",
      "Iteration No: 7 ended. Evaluation done at random point.\n",
      "Time taken: 25.6547\n",
      "Function value obtained: 2.9341\n",
      "Current minimum: 1.4213\n",
      "Iteration No: 8 started. Evaluating function at random point.\n",
      "1.8438069140152427\n",
      "Iteration No: 8 ended. Evaluation done at random point.\n",
      "Time taken: 22.6574\n",
      "Function value obtained: 1.8438\n",
      "Current minimum: 1.4213\n",
      "Iteration No: 9 started. Evaluating function at random point.\n",
      "3.1086262411439867\n",
      "Iteration No: 9 ended. Evaluation done at random point.\n",
      "Time taken: 18.3889\n",
      "Function value obtained: 3.1086\n",
      "Current minimum: 1.4213\n",
      "Iteration No: 10 started. Evaluating function at random point.\n",
      "3.1569938152346477\n",
      "Iteration No: 10 ended. Evaluation done at random point.\n",
      "Time taken: 20.5800\n",
      "Function value obtained: 3.1570\n",
      "Current minimum: 1.4213\n",
      "Iteration No: 11 started. Searching for the next optimal point.\n",
      "1.0305556905943414\n",
      "Iteration No: 11 ended. Search finished for the next optimal point.\n",
      "Time taken: 19.8170\n",
      "Function value obtained: 1.0306\n",
      "Current minimum: 1.0306\n",
      "Iteration No: 12 started. Searching for the next optimal point.\n",
      "1.0880822226646436\n",
      "Iteration No: 12 ended. Search finished for the next optimal point.\n",
      "Time taken: 26.2285\n",
      "Function value obtained: 1.0881\n",
      "Current minimum: 1.0306\n",
      "Iteration No: 13 started. Searching for the next optimal point.\n",
      "1.209068267653265\n",
      "Iteration No: 13 ended. Search finished for the next optimal point.\n",
      "Time taken: 23.5522\n",
      "Function value obtained: 1.2091\n",
      "Current minimum: 1.0306\n",
      "Iteration No: 14 started. Searching for the next optimal point.\n",
      "1.0481426784569585\n",
      "Iteration No: 14 ended. Search finished for the next optimal point.\n",
      "Time taken: 21.0075\n",
      "Function value obtained: 1.0481\n",
      "Current minimum: 1.0306\n",
      "Iteration No: 15 started. Searching for the next optimal point.\n",
      "4.017808397048256\n",
      "Iteration No: 15 ended. Search finished for the next optimal point.\n",
      "Time taken: 22.4237\n",
      "Function value obtained: 4.0178\n",
      "Current minimum: 1.0306\n",
      "Iteration No: 16 started. Searching for the next optimal point.\n",
      "1.049681873782829\n",
      "Iteration No: 16 ended. Search finished for the next optimal point.\n",
      "Time taken: 22.3887\n",
      "Function value obtained: 1.0497\n",
      "Current minimum: 1.0306\n",
      "Iteration No: 17 started. Searching for the next optimal point.\n",
      "3.118850263364165\n",
      "Iteration No: 17 ended. Search finished for the next optimal point.\n",
      "Time taken: 23.8898\n",
      "Function value obtained: 3.1189\n"
     ]
    },
    {
     "name": "stderr",
     "output_type": "stream",
     "text": [
      "/Users/erdembocugoz/anaconda3/lib/python3.6/site-packages/skopt/optimizer/optimizer.py:399: UserWarning: The objective has been evaluated at this point before.\n",
      "  warnings.warn(\"The objective has been evaluated \"\n"
     ]
    },
    {
     "name": "stdout",
     "output_type": "stream",
     "text": [
      "Current minimum: 1.0306\n",
      "Iteration No: 18 started. Searching for the next optimal point.\n",
      "1.0305560426475202\n",
      "Iteration No: 18 ended. Search finished for the next optimal point.\n",
      "Time taken: 23.1637\n",
      "Function value obtained: 1.0306\n",
      "Current minimum: 1.0306\n",
      "Iteration No: 19 started. Searching for the next optimal point.\n",
      "1.0345040536607246\n",
      "Iteration No: 19 ended. Search finished for the next optimal point.\n",
      "Time taken: 24.0336\n",
      "Function value obtained: 1.0345\n",
      "Current minimum: 1.0306\n",
      "Iteration No: 20 started. Searching for the next optimal point.\n"
     ]
    },
    {
     "name": "stderr",
     "output_type": "stream",
     "text": [
      "/Users/erdembocugoz/anaconda3/lib/python3.6/site-packages/skopt/optimizer/optimizer.py:399: UserWarning: The objective has been evaluated at this point before.\n",
      "  warnings.warn(\"The objective has been evaluated \"\n"
     ]
    },
    {
     "name": "stdout",
     "output_type": "stream",
     "text": [
      "1.030555134925587\n",
      "Iteration No: 20 ended. Search finished for the next optimal point.\n",
      "Time taken: 24.2930\n",
      "Function value obtained: 1.0306\n",
      "Current minimum: 1.0306\n",
      "Iteration No: 21 started. Searching for the next optimal point.\n"
     ]
    },
    {
     "name": "stderr",
     "output_type": "stream",
     "text": [
      "/Users/erdembocugoz/anaconda3/lib/python3.6/site-packages/skopt/optimizer/optimizer.py:399: UserWarning: The objective has been evaluated at this point before.\n",
      "  warnings.warn(\"The objective has been evaluated \"\n"
     ]
    },
    {
     "name": "stdout",
     "output_type": "stream",
     "text": [
      "1.0305552466757653\n",
      "Iteration No: 21 ended. Search finished for the next optimal point.\n",
      "Time taken: 24.2312\n",
      "Function value obtained: 1.0306\n",
      "Current minimum: 1.0306\n",
      "Iteration No: 22 started. Searching for the next optimal point.\n"
     ]
    },
    {
     "name": "stderr",
     "output_type": "stream",
     "text": [
      "/Users/erdembocugoz/anaconda3/lib/python3.6/site-packages/skopt/optimizer/optimizer.py:399: UserWarning: The objective has been evaluated at this point before.\n",
      "  warnings.warn(\"The objective has been evaluated \"\n"
     ]
    },
    {
     "name": "stdout",
     "output_type": "stream",
     "text": [
      "1.0305554292886303\n",
      "Iteration No: 22 ended. Search finished for the next optimal point.\n",
      "Time taken: 24.6652\n",
      "Function value obtained: 1.0306\n",
      "Current minimum: 1.0306\n",
      "Iteration No: 23 started. Searching for the next optimal point.\n"
     ]
    },
    {
     "name": "stderr",
     "output_type": "stream",
     "text": [
      "/Users/erdembocugoz/anaconda3/lib/python3.6/site-packages/skopt/optimizer/optimizer.py:399: UserWarning: The objective has been evaluated at this point before.\n",
      "  warnings.warn(\"The objective has been evaluated \"\n"
     ]
    },
    {
     "name": "stdout",
     "output_type": "stream",
     "text": [
      "1.0305553899390774\n",
      "Iteration No: 23 ended. Search finished for the next optimal point.\n",
      "Time taken: 25.4489\n",
      "Function value obtained: 1.0306\n",
      "Current minimum: 1.0306\n",
      "Iteration No: 24 started. Searching for the next optimal point.\n"
     ]
    },
    {
     "name": "stderr",
     "output_type": "stream",
     "text": [
      "/Users/erdembocugoz/anaconda3/lib/python3.6/site-packages/skopt/optimizer/optimizer.py:399: UserWarning: The objective has been evaluated at this point before.\n",
      "  warnings.warn(\"The objective has been evaluated \"\n"
     ]
    },
    {
     "name": "stdout",
     "output_type": "stream",
     "text": [
      "1.0305555695847843\n",
      "Iteration No: 24 ended. Search finished for the next optimal point.\n",
      "Time taken: 25.4034\n",
      "Function value obtained: 1.0306\n",
      "Current minimum: 1.0306\n",
      "Iteration No: 25 started. Searching for the next optimal point.\n"
     ]
    },
    {
     "name": "stderr",
     "output_type": "stream",
     "text": [
      "/Users/erdembocugoz/anaconda3/lib/python3.6/site-packages/skopt/optimizer/optimizer.py:399: UserWarning: The objective has been evaluated at this point before.\n",
      "  warnings.warn(\"The objective has been evaluated \"\n"
     ]
    },
    {
     "name": "stdout",
     "output_type": "stream",
     "text": [
      "1.0305560696492368\n",
      "Iteration No: 25 ended. Search finished for the next optimal point.\n",
      "Time taken: 28.2882\n",
      "Function value obtained: 1.0306\n",
      "Current minimum: 1.0306\n",
      "Iteration No: 26 started. Searching for the next optimal point.\n"
     ]
    },
    {
     "name": "stderr",
     "output_type": "stream",
     "text": [
      "/Users/erdembocugoz/anaconda3/lib/python3.6/site-packages/skopt/optimizer/optimizer.py:399: UserWarning: The objective has been evaluated at this point before.\n",
      "  warnings.warn(\"The objective has been evaluated \"\n"
     ]
    },
    {
     "name": "stdout",
     "output_type": "stream",
     "text": [
      "1.0305555305411176\n",
      "Iteration No: 26 ended. Search finished for the next optimal point.\n",
      "Time taken: 26.9391\n",
      "Function value obtained: 1.0306\n",
      "Current minimum: 1.0306\n",
      "Iteration No: 27 started. Searching for the next optimal point.\n"
     ]
    },
    {
     "name": "stderr",
     "output_type": "stream",
     "text": [
      "/Users/erdembocugoz/anaconda3/lib/python3.6/site-packages/skopt/optimizer/optimizer.py:399: UserWarning: The objective has been evaluated at this point before.\n",
      "  warnings.warn(\"The objective has been evaluated \"\n"
     ]
    },
    {
     "name": "stdout",
     "output_type": "stream",
     "text": [
      "1.0305554059048367\n",
      "Iteration No: 27 ended. Search finished for the next optimal point.\n",
      "Time taken: 27.2543\n",
      "Function value obtained: 1.0306\n",
      "Current minimum: 1.0306\n",
      "Iteration No: 28 started. Searching for the next optimal point.\n"
     ]
    },
    {
     "name": "stderr",
     "output_type": "stream",
     "text": [
      "/Users/erdembocugoz/anaconda3/lib/python3.6/site-packages/skopt/optimizer/optimizer.py:399: UserWarning: The objective has been evaluated at this point before.\n",
      "  warnings.warn(\"The objective has been evaluated \"\n"
     ]
    },
    {
     "name": "stdout",
     "output_type": "stream",
     "text": [
      "1.0305557024099858\n",
      "Iteration No: 28 ended. Search finished for the next optimal point.\n",
      "Time taken: 29.3145\n",
      "Function value obtained: 1.0306\n",
      "Current minimum: 1.0306\n",
      "Iteration No: 29 started. Searching for the next optimal point.\n"
     ]
    },
    {
     "name": "stderr",
     "output_type": "stream",
     "text": [
      "/Users/erdembocugoz/anaconda3/lib/python3.6/site-packages/skopt/optimizer/optimizer.py:399: UserWarning: The objective has been evaluated at this point before.\n",
      "  warnings.warn(\"The objective has been evaluated \"\n"
     ]
    },
    {
     "name": "stdout",
     "output_type": "stream",
     "text": [
      "1.0305556158599225\n",
      "Iteration No: 29 ended. Search finished for the next optimal point.\n",
      "Time taken: 31.1880\n",
      "Function value obtained: 1.0306\n",
      "Current minimum: 1.0306\n",
      "Iteration No: 30 started. Searching for the next optimal point.\n"
     ]
    },
    {
     "name": "stderr",
     "output_type": "stream",
     "text": [
      "/Users/erdembocugoz/anaconda3/lib/python3.6/site-packages/skopt/optimizer/optimizer.py:399: UserWarning: The objective has been evaluated at this point before.\n",
      "  warnings.warn(\"The objective has been evaluated \"\n"
     ]
    },
    {
     "name": "stdout",
     "output_type": "stream",
     "text": [
      "1.0305553601254658\n",
      "Iteration No: 30 ended. Search finished for the next optimal point.\n",
      "Time taken: 30.0755\n",
      "Function value obtained: 1.0306\n",
      "Current minimum: 1.0306\n",
      "Iteration No: 31 started. Searching for the next optimal point.\n"
     ]
    },
    {
     "name": "stderr",
     "output_type": "stream",
     "text": [
      "/Users/erdembocugoz/anaconda3/lib/python3.6/site-packages/skopt/optimizer/optimizer.py:399: UserWarning: The objective has been evaluated at this point before.\n",
      "  warnings.warn(\"The objective has been evaluated \"\n"
     ]
    },
    {
     "name": "stdout",
     "output_type": "stream",
     "text": [
      "1.0305554420383696\n",
      "Iteration No: 31 ended. Search finished for the next optimal point.\n",
      "Time taken: 28.7103\n",
      "Function value obtained: 1.0306\n",
      "Current minimum: 1.0306\n",
      "Iteration No: 32 started. Searching for the next optimal point.\n"
     ]
    },
    {
     "name": "stderr",
     "output_type": "stream",
     "text": [
      "/Users/erdembocugoz/anaconda3/lib/python3.6/site-packages/skopt/optimizer/optimizer.py:399: UserWarning: The objective has been evaluated at this point before.\n",
      "  warnings.warn(\"The objective has been evaluated \"\n"
     ]
    },
    {
     "name": "stdout",
     "output_type": "stream",
     "text": [
      "1.0305552768503716\n",
      "Iteration No: 32 ended. Search finished for the next optimal point.\n",
      "Time taken: 33.3599\n",
      "Function value obtained: 1.0306\n",
      "Current minimum: 1.0306\n",
      "Iteration No: 33 started. Searching for the next optimal point.\n"
     ]
    },
    {
     "name": "stderr",
     "output_type": "stream",
     "text": [
      "/Users/erdembocugoz/anaconda3/lib/python3.6/site-packages/skopt/optimizer/optimizer.py:399: UserWarning: The objective has been evaluated at this point before.\n",
      "  warnings.warn(\"The objective has been evaluated \"\n"
     ]
    },
    {
     "name": "stdout",
     "output_type": "stream",
     "text": [
      "1.0305553226948045\n",
      "Iteration No: 33 ended. Search finished for the next optimal point.\n",
      "Time taken: 31.6911\n",
      "Function value obtained: 1.0306\n",
      "Current minimum: 1.0306\n",
      "Iteration No: 34 started. Searching for the next optimal point.\n"
     ]
    },
    {
     "name": "stderr",
     "output_type": "stream",
     "text": [
      "/Users/erdembocugoz/anaconda3/lib/python3.6/site-packages/skopt/optimizer/optimizer.py:399: UserWarning: The objective has been evaluated at this point before.\n",
      "  warnings.warn(\"The objective has been evaluated \"\n"
     ]
    },
    {
     "name": "stdout",
     "output_type": "stream",
     "text": [
      "1.0305553970982144\n",
      "Iteration No: 34 ended. Search finished for the next optimal point.\n",
      "Time taken: 31.3666\n",
      "Function value obtained: 1.0306\n",
      "Current minimum: 1.0306\n",
      "Iteration No: 35 started. Searching for the next optimal point.\n"
     ]
    },
    {
     "name": "stderr",
     "output_type": "stream",
     "text": [
      "/Users/erdembocugoz/anaconda3/lib/python3.6/site-packages/skopt/optimizer/optimizer.py:399: UserWarning: The objective has been evaluated at this point before.\n",
      "  warnings.warn(\"The objective has been evaluated \"\n"
     ]
    },
    {
     "name": "stdout",
     "output_type": "stream",
     "text": [
      "1.0305554553637368\n",
      "Iteration No: 35 ended. Search finished for the next optimal point.\n",
      "Time taken: 32.1730\n",
      "Function value obtained: 1.0306\n",
      "Current minimum: 1.0306\n",
      "Iteration No: 36 started. Searching for the next optimal point.\n"
     ]
    },
    {
     "name": "stderr",
     "output_type": "stream",
     "text": [
      "/Users/erdembocugoz/anaconda3/lib/python3.6/site-packages/skopt/optimizer/optimizer.py:399: UserWarning: The objective has been evaluated at this point before.\n",
      "  warnings.warn(\"The objective has been evaluated \"\n"
     ]
    },
    {
     "name": "stdout",
     "output_type": "stream",
     "text": [
      "1.0305557218571524\n",
      "Iteration No: 36 ended. Search finished for the next optimal point.\n",
      "Time taken: 37.8117\n",
      "Function value obtained: 1.0306\n",
      "Current minimum: 1.0306\n",
      "Iteration No: 37 started. Searching for the next optimal point.\n"
     ]
    },
    {
     "name": "stderr",
     "output_type": "stream",
     "text": [
      "/Users/erdembocugoz/anaconda3/lib/python3.6/site-packages/skopt/optimizer/optimizer.py:399: UserWarning: The objective has been evaluated at this point before.\n",
      "  warnings.warn(\"The objective has been evaluated \"\n"
     ]
    },
    {
     "name": "stdout",
     "output_type": "stream",
     "text": [
      "1.0305556070890642\n",
      "Iteration No: 37 ended. Search finished for the next optimal point.\n",
      "Time taken: 32.9421\n",
      "Function value obtained: 1.0306\n",
      "Current minimum: 1.0306\n",
      "Iteration No: 38 started. Searching for the next optimal point.\n"
     ]
    },
    {
     "name": "stderr",
     "output_type": "stream",
     "text": [
      "/Users/erdembocugoz/anaconda3/lib/python3.6/site-packages/skopt/optimizer/optimizer.py:399: UserWarning: The objective has been evaluated at this point before.\n",
      "  warnings.warn(\"The objective has been evaluated \"\n"
     ]
    },
    {
     "name": "stdout",
     "output_type": "stream",
     "text": [
      "1.0305555478520032\n",
      "Iteration No: 38 ended. Search finished for the next optimal point.\n",
      "Time taken: 34.8165\n",
      "Function value obtained: 1.0306\n",
      "Current minimum: 1.0306\n",
      "Iteration No: 39 started. Searching for the next optimal point.\n"
     ]
    },
    {
     "name": "stderr",
     "output_type": "stream",
     "text": [
      "/Users/erdembocugoz/anaconda3/lib/python3.6/site-packages/skopt/optimizer/optimizer.py:399: UserWarning: The objective has been evaluated at this point before.\n",
      "  warnings.warn(\"The objective has been evaluated \"\n"
     ]
    },
    {
     "name": "stdout",
     "output_type": "stream",
     "text": [
      "1.0305555561493762\n",
      "Iteration No: 39 ended. Search finished for the next optimal point.\n",
      "Time taken: 34.2941\n",
      "Function value obtained: 1.0306\n",
      "Current minimum: 1.0306\n",
      "Iteration No: 40 started. Searching for the next optimal point.\n"
     ]
    },
    {
     "name": "stderr",
     "output_type": "stream",
     "text": [
      "/Users/erdembocugoz/anaconda3/lib/python3.6/site-packages/skopt/optimizer/optimizer.py:399: UserWarning: The objective has been evaluated at this point before.\n",
      "  warnings.warn(\"The objective has been evaluated \"\n"
     ]
    },
    {
     "name": "stdout",
     "output_type": "stream",
     "text": [
      "1.030555304861005\n",
      "Iteration No: 40 ended. Search finished for the next optimal point.\n",
      "Time taken: 47.5114\n",
      "Function value obtained: 1.0306\n",
      "Current minimum: 1.0306\n",
      "Iteration No: 41 started. Searching for the next optimal point.\n"
     ]
    },
    {
     "name": "stderr",
     "output_type": "stream",
     "text": [
      "/Users/erdembocugoz/anaconda3/lib/python3.6/site-packages/skopt/optimizer/optimizer.py:399: UserWarning: The objective has been evaluated at this point before.\n",
      "  warnings.warn(\"The objective has been evaluated \"\n"
     ]
    },
    {
     "name": "stdout",
     "output_type": "stream",
     "text": [
      "1.0305554485671793\n",
      "Iteration No: 41 ended. Search finished for the next optimal point.\n",
      "Time taken: 68.5461\n",
      "Function value obtained: 1.0306\n",
      "Current minimum: 1.0306\n",
      "Iteration No: 42 started. Searching for the next optimal point.\n"
     ]
    },
    {
     "name": "stderr",
     "output_type": "stream",
     "text": [
      "/Users/erdembocugoz/anaconda3/lib/python3.6/site-packages/skopt/optimizer/optimizer.py:399: UserWarning: The objective has been evaluated at this point before.\n",
      "  warnings.warn(\"The objective has been evaluated \"\n"
     ]
    },
    {
     "name": "stdout",
     "output_type": "stream",
     "text": [
      "1.0305554023056078\n",
      "Iteration No: 42 ended. Search finished for the next optimal point.\n",
      "Time taken: 55.7427\n",
      "Function value obtained: 1.0306\n",
      "Current minimum: 1.0306\n",
      "Iteration No: 43 started. Searching for the next optimal point.\n"
     ]
    },
    {
     "name": "stderr",
     "output_type": "stream",
     "text": [
      "/Users/erdembocugoz/anaconda3/lib/python3.6/site-packages/skopt/optimizer/optimizer.py:399: UserWarning: The objective has been evaluated at this point before.\n",
      "  warnings.warn(\"The objective has been evaluated \"\n"
     ]
    },
    {
     "name": "stdout",
     "output_type": "stream",
     "text": [
      "1.0305558492677762\n",
      "Iteration No: 43 ended. Search finished for the next optimal point.\n",
      "Time taken: 53.0666\n",
      "Function value obtained: 1.0306\n",
      "Current minimum: 1.0306\n",
      "Iteration No: 44 started. Searching for the next optimal point.\n",
      "1.0336293866718416\n",
      "Iteration No: 44 ended. Search finished for the next optimal point.\n",
      "Time taken: 65.1355\n",
      "Function value obtained: 1.0336\n",
      "Current minimum: 1.0306\n",
      "Iteration No: 45 started. Searching for the next optimal point.\n"
     ]
    },
    {
     "name": "stderr",
     "output_type": "stream",
     "text": [
      "/Users/erdembocugoz/anaconda3/lib/python3.6/site-packages/skopt/optimizer/optimizer.py:399: UserWarning: The objective has been evaluated at this point before.\n",
      "  warnings.warn(\"The objective has been evaluated \"\n"
     ]
    },
    {
     "name": "stdout",
     "output_type": "stream",
     "text": [
      "1.0305555816460772\n",
      "Iteration No: 45 ended. Search finished for the next optimal point.\n",
      "Time taken: 57.2669\n",
      "Function value obtained: 1.0306\n",
      "Current minimum: 1.0306\n",
      "Iteration No: 46 started. Searching for the next optimal point.\n"
     ]
    },
    {
     "name": "stderr",
     "output_type": "stream",
     "text": [
      "/Users/erdembocugoz/anaconda3/lib/python3.6/site-packages/skopt/optimizer/optimizer.py:399: UserWarning: The objective has been evaluated at this point before.\n",
      "  warnings.warn(\"The objective has been evaluated \"\n"
     ]
    },
    {
     "name": "stdout",
     "output_type": "stream",
     "text": [
      "1.0305554295917259\n",
      "Iteration No: 46 ended. Search finished for the next optimal point.\n",
      "Time taken: 46.4796\n",
      "Function value obtained: 1.0306\n",
      "Current minimum: 1.0306\n",
      "Iteration No: 47 started. Searching for the next optimal point.\n"
     ]
    },
    {
     "name": "stderr",
     "output_type": "stream",
     "text": [
      "/Users/erdembocugoz/anaconda3/lib/python3.6/site-packages/skopt/optimizer/optimizer.py:399: UserWarning: The objective has been evaluated at this point before.\n",
      "  warnings.warn(\"The objective has been evaluated \"\n"
     ]
    },
    {
     "name": "stdout",
     "output_type": "stream",
     "text": [
      "1.0305552073376536\n",
      "Iteration No: 47 ended. Search finished for the next optimal point.\n",
      "Time taken: 46.9831\n",
      "Function value obtained: 1.0306\n",
      "Current minimum: 1.0306\n",
      "Iteration No: 48 started. Searching for the next optimal point.\n"
     ]
    },
    {
     "name": "stderr",
     "output_type": "stream",
     "text": [
      "/Users/erdembocugoz/anaconda3/lib/python3.6/site-packages/skopt/optimizer/optimizer.py:399: UserWarning: The objective has been evaluated at this point before.\n",
      "  warnings.warn(\"The objective has been evaluated \"\n"
     ]
    },
    {
     "name": "stdout",
     "output_type": "stream",
     "text": [
      "1.030555762320475\n",
      "Iteration No: 48 ended. Search finished for the next optimal point.\n",
      "Time taken: 53.4005\n",
      "Function value obtained: 1.0306\n",
      "Current minimum: 1.0306\n",
      "Iteration No: 49 started. Searching for the next optimal point.\n"
     ]
    },
    {
     "name": "stderr",
     "output_type": "stream",
     "text": [
      "/Users/erdembocugoz/anaconda3/lib/python3.6/site-packages/skopt/optimizer/optimizer.py:399: UserWarning: The objective has been evaluated at this point before.\n",
      "  warnings.warn(\"The objective has been evaluated \"\n"
     ]
    },
    {
     "name": "stdout",
     "output_type": "stream",
     "text": [
      "1.0305553720215548\n",
      "Iteration No: 49 ended. Search finished for the next optimal point.\n",
      "Time taken: 54.1895\n",
      "Function value obtained: 1.0306\n",
      "Current minimum: 1.0306\n",
      "Iteration No: 50 started. Searching for the next optimal point.\n"
     ]
    },
    {
     "name": "stderr",
     "output_type": "stream",
     "text": [
      "/Users/erdembocugoz/anaconda3/lib/python3.6/site-packages/skopt/optimizer/optimizer.py:399: UserWarning: The objective has been evaluated at this point before.\n",
      "  warnings.warn(\"The objective has been evaluated \"\n"
     ]
    },
    {
     "name": "stdout",
     "output_type": "stream",
     "text": [
      "1.0305557935986462\n",
      "Iteration No: 50 ended. Search finished for the next optimal point.\n",
      "Time taken: 68.2813\n",
      "Function value obtained: 1.0306\n",
      "Current minimum: 1.0306\n"
     ]
    }
   ],
   "source": [
    "from skopt import gp_minimize\n",
    "res_gp = gp_minimize(objective, space, n_calls=50, random_state=0,verbose=True)"
   ]
  },
  {
   "cell_type": "code",
   "execution_count": null,
   "metadata": {
    "collapsed": true
   },
   "outputs": [],
   "source": []
  }
 ],
 "metadata": {
  "kernelspec": {
   "display_name": "Python 3",
   "language": "python",
   "name": "python3"
  },
  "language_info": {
   "codemirror_mode": {
    "name": "ipython",
    "version": 3
   },
   "file_extension": ".py",
   "mimetype": "text/x-python",
   "name": "python",
   "nbconvert_exporter": "python",
   "pygments_lexer": "ipython3",
   "version": "3.6.4"
  }
 },
 "nbformat": 4,
 "nbformat_minor": 2
}
