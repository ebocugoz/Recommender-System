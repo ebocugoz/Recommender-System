{
 "cells": [
  {
   "cell_type": "markdown",
   "metadata": {},
   "source": [
    "### ML Project 2 - Recommender Systems - Surprise Library"
   ]
  },
  {
   "cell_type": "code",
   "execution_count": 1,
   "metadata": {},
   "outputs": [],
   "source": [
    "from surprise import *\n",
    "from surprise.model_selection import PredefinedKFold\n",
    "from surprise.model_selection import GridSearchCV\n",
    "from surprise.model_selection import cross_validate\n",
    "\n",
    "import pandas as pd \n",
    "import numpy as np\n",
    "import math\n",
    "from implementations import *\n",
    "\n",
    "%load_ext autoreload\n",
    "%autoreload 2"
   ]
  },
  {
   "cell_type": "markdown",
   "metadata": {},
   "source": [
    "### Load Data"
   ]
  },
  {
   "cell_type": "code",
   "execution_count": 2,
   "metadata": {},
   "outputs": [],
   "source": [
    "train_file = \"data_train.csv\"\n",
    "submission_file = \"sampleSubmission.csv\"\n",
    "\n",
    "trainset, testset, df, toBeSubmitted = load_data(train_file, submission_file)"
   ]
  },
  {
   "cell_type": "code",
   "execution_count": 3,
   "metadata": {},
   "outputs": [],
   "source": [
    "gridSearchDic = {}"
   ]
  },
  {
   "cell_type": "markdown",
   "metadata": {},
   "source": [
    "### SVD"
   ]
  },
  {
   "cell_type": "markdown",
   "metadata": {},
   "source": [
    "#### Tune HyperParams"
   ]
  },
  {
   "cell_type": "code",
   "execution_count": null,
   "metadata": {},
   "outputs": [],
   "source": [
    "algtype = SVD\n",
    "param_grid = {'n_epochs': [30],\n",
    "              'lr_all': [0.01, 0.1],\n",
    "              'reg_all':[0.01, 0.1],\n",
    "             }\n",
    "gs = tuneHyperParams(algtype, trainset, testset, df, param_grid)"
   ]
  },
  {
   "cell_type": "code",
   "execution_count": null,
   "metadata": {},
   "outputs": [],
   "source": [
    "#gridSearchDic[\"SVD\"] = gs\n",
    "with open('SVD.pkl', 'wb') as f:\n",
    "    pickle.dump(gs, f)"
   ]
  },
  {
   "cell_type": "markdown",
   "metadata": {},
   "source": [
    "#### Cross Validate"
   ]
  },
  {
   "cell_type": "code",
   "execution_count": 4,
   "metadata": {},
   "outputs": [
    {
     "name": "stdout",
     "output_type": "stream",
     "text": [
      "Evaluating RMSE of algorithm SVD on 5 split(s).\n",
      "\n",
      "                  Fold 1  Fold 2  Fold 3  Fold 4  Fold 5  Mean    Std     \n",
      "RMSE (testset)    1.0447  1.0438  1.0460  1.0474  1.0451  1.0454  0.0012  \n",
      "Fit time          2.80    4.16    3.07    3.04    3.12    3.24    0.47    \n",
      "Test time         3.53    2.12    2.28    2.21    2.54    2.54    0.51    \n"
     ]
    },
    {
     "data": {
      "text/plain": [
       "{'test_rmse': array([1.04470125, 1.04382527, 1.04598156, 1.04735162, 1.04512679]),\n",
       " 'fit_time': (2.8004345893859863,\n",
       "  4.1560211181640625,\n",
       "  3.0707383155822754,\n",
       "  3.044933319091797,\n",
       "  3.119328022003174),\n",
       " 'test_time': (3.5282211303710938,\n",
       "  2.119875431060791,\n",
       "  2.282641887664795,\n",
       "  2.2141616344451904,\n",
       "  2.5400352478027344)}"
      ]
     },
     "execution_count": 4,
     "metadata": {},
     "output_type": "execute_result"
    }
   ],
   "source": [
    "#algo = SVDpp(n_epochs=30,lr_all=0.001,reg_all=0.001)\n",
    "#algo = SVD(n_epochs=1,lr_all=0.001,reg_all=0.001)\n",
    "\n",
    "#reader = Reader(rating_scale=(1, 5))\n",
    "#d = Dataset.load_from_df(df[['User', 'Movie', 'Rating']], reader)\n",
    "#cross_validate(algo, d, measures=['RMSE'], cv=5, verbose=True)"
   ]
  },
  {
   "cell_type": "markdown",
   "metadata": {},
   "source": [
    "### KnnBaseline"
   ]
  },
  {
   "cell_type": "markdown",
   "metadata": {},
   "source": [
    "#### Tune HyperParams"
   ]
  },
  {
   "cell_type": "code",
   "execution_count": null,
   "metadata": {},
   "outputs": [
    {
     "name": "stdout",
     "output_type": "stream",
     "text": [
      "Estimating biases using als...\n",
      "Computing the msd similarity matrix...\n",
      "Done computing similarity matrix.\n",
      "Estimating biases using als...\n",
      "Computing the msd similarity matrix...\n",
      "Done computing similarity matrix.\n"
     ]
    }
   ],
   "source": [
    "algotype = KNNBaseline\n",
    "param_grid = {'k': [50, 300], 'n_epochs': [30],'name': ['pearson_baseline'], 'user_based': [True]}\n",
    "\n",
    "gs = tuneHyperParams(algotype, trainset, testset, df, param_grid)"
   ]
  },
  {
   "cell_type": "code",
   "execution_count": null,
   "metadata": {},
   "outputs": [],
   "source": [
    "#gridSearchDic[\"KnnBaseline\"] = gs"
   ]
  },
  {
   "cell_type": "code",
   "execution_count": null,
   "metadata": {},
   "outputs": [],
   "source": [
    "with open('knnUserBased.pkl', 'wb') as f:\n",
    "    pickle.dump(gs, f)"
   ]
  },
  {
   "cell_type": "code",
   "execution_count": null,
   "metadata": {},
   "outputs": [],
   "source": [
    "algotype = KNNBaseline\n",
    "param_grid = {'k': [50, 300], 'n_epochs': [30],'name': ['pearson_baseline'], 'user_based': [False]}\n",
    "\n",
    "gs = tuneHyperParams(algotype, trainset, testset, df, param_grid)"
   ]
  },
  {
   "cell_type": "code",
   "execution_count": null,
   "metadata": {},
   "outputs": [],
   "source": [
    "with open('knnItemBased.pkl', 'wb') as f:\n",
    "    pickle.dump(gs, f)"
   ]
  },
  {
   "cell_type": "markdown",
   "metadata": {},
   "source": [
    "#### Cross Validate"
   ]
  },
  {
   "cell_type": "code",
   "execution_count": 5,
   "metadata": {},
   "outputs": [],
   "source": [
    "bsl_options = {'method': 'als','n_epochs': 20}\n",
    "sim_options = {'name': 'pearson_baseline'}\n",
    "algo = KNNBasic(k=300, bsl_options=bsl_options, sim_options=sim_options)\n",
    "\n",
    "reader = Reader(rating_scale=(1, 5))\n",
    "d = Dataset.load_from_df(df[['User', 'Movie', 'Rating']], reader)\n",
    "cross_validate(algo, d, measures=['RMSE'], cv=5, verbose=True)"
   ]
  },
  {
   "cell_type": "markdown",
   "metadata": {},
   "source": [
    "### SlopeOne"
   ]
  },
  {
   "cell_type": "code",
   "execution_count": null,
   "metadata": {},
   "outputs": [],
   "source": [
    "algo = SlopeOne()\n",
    "\n",
    "reader = Reader(rating_scale=(1, 5))\n",
    "d = Dataset.load_from_df(df[['User', 'Movie', 'Rating']], reader)\n",
    "cross_validate(algo, d, measures=['RMSE'], cv=5, verbose=True)"
   ]
  },
  {
   "cell_type": "markdown",
   "metadata": {},
   "source": [
    "### Baseline"
   ]
  },
  {
   "cell_type": "code",
   "execution_count": null,
   "metadata": {},
   "outputs": [],
   "source": [
    "algo = BaselineOnly()\n",
    "\n",
    "reader = Reader(rating_scale=(1, 5))\n",
    "d = Dataset.load_from_df(df[['User', 'Movie', 'Rating']], reader)\n",
    "cross_validate(algo, d, measures=['RMSE'], cv=5, verbose=True)"
   ]
  },
  {
   "cell_type": "markdown",
   "metadata": {},
   "source": [
    "### Select Algorithm"
   ]
  },
  {
   "cell_type": "code",
   "execution_count": null,
   "metadata": {},
   "outputs": [],
   "source": [
    "# Select Algorithm\n",
    "#algo = SVDpp(n_epochs=30,lr_all=0.001,reg_all=0.001)\n",
    "algtype = SVD\n",
    "param_grid = {'n_epochs': [50],\n",
    "              'lr_all': [0.01, 0.0005, 0.001, 0.01, 0.1],\n",
    "              'reg_all':[0.01, 0.0005, 0.001, 0.01, 0.1],\n",
    "             }"
   ]
  },
  {
   "cell_type": "markdown",
   "metadata": {},
   "source": [
    "### Tune Hyperparameters via Grid Search"
   ]
  },
  {
   "cell_type": "code",
   "execution_count": null,
   "metadata": {},
   "outputs": [],
   "source": [
    "reader = Reader(rating_scale=(1, 5))\n",
    "data = Dataset.load_from_df(df[['User', 'Movie', 'Rating']], reader)\n",
    "#trainset, testset = train_test_split(data, test_size=.25, random_state=20)\n",
    "\n",
    "\n",
    "gs = GridSearchCV(algtype, param_grid, measures=['rmse', 'mae'], cv=3, n_jobs=-1)\n",
    "\n",
    "model = gs.fit(data)\n",
    "\n",
    "# best RMSE score\n",
    "print(gs.best_score['rmse'])\n",
    "\n",
    "# combination of parameters that gave the best RMSE score\n",
    "print(gs.best_params['rmse'])"
   ]
  },
  {
   "cell_type": "markdown",
   "metadata": {},
   "source": [
    "### Fit & Predict"
   ]
  },
  {
   "cell_type": "code",
   "execution_count": null,
   "metadata": {},
   "outputs": [],
   "source": [
    "# Fit\n",
    "#algo = SVD(n_factors=factor ,n_epochs=epoch, lr_all=lr_rate, reg_all=reg_rate)\n",
    "algo = gs.best_estimator['rmse']\n",
    "\n",
    "model = algo.fit(trainset)\n",
    "\n",
    "# Predict\n",
    "predictions = algo.test(testset)"
   ]
  },
  {
   "cell_type": "code",
   "execution_count": null,
   "metadata": {},
   "outputs": [],
   "source": [
    "predictions"
   ]
  },
  {
   "cell_type": "markdown",
   "metadata": {},
   "source": [
    "### Submit"
   ]
  },
  {
   "cell_type": "code",
   "execution_count": null,
   "metadata": {},
   "outputs": [],
   "source": [
    "# Create Submission file\n",
    "create_submission_file('submission_surprise', predictions, toBeSubmitted)"
   ]
  }
 ],
 "metadata": {
  "kernelspec": {
   "display_name": "Python 3",
   "language": "python",
   "name": "python3"
  },
  "language_info": {
   "codemirror_mode": {
    "name": "ipython",
    "version": 3
   },
   "file_extension": ".py",
   "mimetype": "text/x-python",
   "name": "python",
   "nbconvert_exporter": "python",
   "pygments_lexer": "ipython3",
   "version": "3.6.4"
  }
 },
 "nbformat": 4,
 "nbformat_minor": 2
}
