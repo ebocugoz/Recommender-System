{
 "cells": [
  {
   "cell_type": "code",
   "execution_count": 1,
   "metadata": {},
   "outputs": [],
   "source": [
    "from pyfm import pylibfm\n",
    "import pandas as pd \n",
    "import numpy as np\n",
    "import math\n",
    "from sklearn.feature_extraction import DictVectorizer\n",
    "from implementations import *\n"
   ]
  },
  {
   "cell_type": "code",
   "execution_count": 2,
   "metadata": {},
   "outputs": [],
   "source": [
    "df = load_data(\"movielens100k.csv\")"
   ]
  },
  {
   "cell_type": "code",
   "execution_count": 3,
   "metadata": {
    "collapsed": true
   },
   "outputs": [],
   "source": [
    "split_ratio = 0.8\n",
    "train,test = split(df,split_ratio)"
   ]
  },
  {
   "cell_type": "code",
   "execution_count": 4,
   "metadata": {},
   "outputs": [],
   "source": [
    "train_data,y_train = create_input_pyfm(train)\n",
    "test_data,y_test = create_input_pyfm(test)"
   ]
  },
  {
   "cell_type": "code",
   "execution_count": 5,
   "metadata": {
    "collapsed": true
   },
   "outputs": [],
   "source": [
    "v = DictVectorizer()\n",
    "X_train = v.fit_transform(train_data)\n",
    "X_test = v.transform(test_data)"
   ]
  },
  {
   "cell_type": "code",
   "execution_count": 6,
   "metadata": {},
   "outputs": [],
   "source": [
    "# Hyperparameters\n",
    "\n",
    "num_factors = 20\n",
    "num_iter = 20\n",
    "task = 'regression'\n",
    "initial_learning_rate = 0.001\n",
    "learning_rate_schedule = 'optimal'"
   ]
  },
  {
   "cell_type": "code",
   "execution_count": 7,
   "metadata": {},
   "outputs": [],
   "source": [
    "fm = pylibfm.FM(num_factors=num_factors, num_iter=num_iter, task=task,\n",
    "                    initial_learning_rate=initial_learning_rate,\n",
    "                    learning_rate_schedule=learning_rate_schedule)"
   ]
  },
  {
   "cell_type": "code",
   "execution_count": 8,
   "metadata": {},
   "outputs": [
    {
     "name": "stdout",
     "output_type": "stream",
     "text": [
      "Creating validation dataset of 0.01 of training for adaptive regularization\n",
      "-- Epoch 1\n",
      "Training MSE: 0.60404\n",
      "-- Epoch 2\n",
      "Training MSE: 0.52698\n",
      "-- Epoch 3\n",
      "Training MSE: 0.49779\n",
      "-- Epoch 4\n",
      "Training MSE: 0.48035\n",
      "-- Epoch 5\n",
      "Training MSE: 0.46870\n",
      "-- Epoch 6\n",
      "Training MSE: 0.46010\n",
      "-- Epoch 7\n",
      "Training MSE: 0.45355\n",
      "-- Epoch 8\n",
      "Training MSE: 0.44812\n",
      "-- Epoch 9\n",
      "Training MSE: 0.44353\n",
      "-- Epoch 10\n",
      "Training MSE: 0.43972\n",
      "-- Epoch 11\n",
      "Training MSE: 0.43632\n",
      "-- Epoch 12\n",
      "Training MSE: 0.43335\n",
      "-- Epoch 13\n",
      "Training MSE: 0.43057\n",
      "-- Epoch 14\n",
      "Training MSE: 0.42809\n",
      "-- Epoch 15\n",
      "Training MSE: 0.42570\n",
      "-- Epoch 16\n",
      "Training MSE: 0.42344\n",
      "-- Epoch 17\n",
      "Training MSE: 0.42146\n",
      "-- Epoch 18\n",
      "Training MSE: 0.41938\n",
      "-- Epoch 19\n",
      "Training MSE: 0.41741\n",
      "-- Epoch 20\n",
      "Training MSE: 0.41549\n"
     ]
    }
   ],
   "source": [
    "fm.fit(X_train, y_train)"
   ]
  },
  {
   "cell_type": "code",
   "execution_count": 9,
   "metadata": {},
   "outputs": [],
   "source": [
    "preds = fm.predict(X_test)\n",
    "df_return = test.copy()\n",
    "df_return.Rating = preds"
   ]
  },
  {
   "cell_type": "code",
   "execution_count": 10,
   "metadata": {
    "collapsed": true
   },
   "outputs": [],
   "source": [
    "from sklearn.metrics import mean_squared_error\n"
   ]
  },
  {
   "cell_type": "code",
   "execution_count": 11,
   "metadata": {
    "collapsed": true
   },
   "outputs": [],
   "source": [
    "rmse = mean_squared_error(y_test,preds)"
   ]
  },
  {
   "cell_type": "code",
   "execution_count": 12,
   "metadata": {},
   "outputs": [
    {
     "data": {
      "text/plain": [
       "0.948887418088915"
      ]
     },
     "execution_count": 12,
     "metadata": {},
     "output_type": "execute_result"
    }
   ],
   "source": [
    "evaluate(df_return,test)"
   ]
  },
  {
   "cell_type": "code",
   "execution_count": 13,
   "metadata": {},
   "outputs": [
    {
     "data": {
      "text/plain": [
       "0.9003873322074482"
      ]
     },
     "execution_count": 13,
     "metadata": {},
     "output_type": "execute_result"
    }
   ],
   "source": [
    "rmse"
   ]
  },
  {
   "cell_type": "code",
   "execution_count": null,
   "metadata": {
    "collapsed": true
   },
   "outputs": [],
   "source": []
  }
 ],
 "metadata": {
  "kernelspec": {
   "display_name": "Python 3",
   "language": "python",
   "name": "python3"
  },
  "language_info": {
   "codemirror_mode": {
    "name": "ipython",
    "version": 3
   },
   "file_extension": ".py",
   "mimetype": "text/x-python",
   "name": "python",
   "nbconvert_exporter": "python",
   "pygments_lexer": "ipython3",
   "version": "3.6.4"
  }
 },
 "nbformat": 4,
 "nbformat_minor": 2
}
