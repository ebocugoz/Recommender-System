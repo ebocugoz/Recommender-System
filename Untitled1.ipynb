{
 "cells": [
  {
   "cell_type": "code",
   "execution_count": 1,
   "metadata": {},
   "outputs": [
    {
     "name": "stdout",
     "output_type": "stream",
     "text": [
      "Loading data sets...\n"
     ]
    }
   ],
   "source": [
    "import numpy as np\n",
    "import pandas as pd\n",
    "import os\n",
    "import pickle\n",
    "from sklearn.linear_model import Ridge\n",
    "from glob import glob\n",
    "from surprise import Dataset, Reader\n",
    "import random\n",
    "from blend import *\n",
    "from implementations import *\n",
    "from pyspark import SparkContext, SparkConf\n",
    "\n",
    "print(\"Loading data sets...\")\n",
    "data_train,data_test,data_actual_train,data_actual_predict = make_datasets()\n",
    "\n",
    "\n"
   ]
  },
  {
   "cell_type": "code",
   "execution_count": 2,
   "metadata": {
    "collapsed": true
   },
   "outputs": [],
   "source": [
    "\n",
    "#Start spark context\n",
    "conf = (SparkConf().setMaster(\"local\").setAppName(\"My app\").set(\"spark.executor.memory\", \"1g\"))\n",
    "sc.stop()\n",
    "sc = SparkContext(conf=conf)"
   ]
  },
  {
   "cell_type": "code",
   "execution_count": null,
   "metadata": {
    "collapsed": true
   },
   "outputs": [],
   "source": [
    "print(\"Getting predictions from each model...\")\n",
    "all_predicts = get_predicts(data_actual_train,data_actual_predict,sc)\n",
    "\n",
    "\n",
    "\n",
    "\n",
    "data_actual_predict[\"Rating\"] = final_predictions\n",
    "print(\"Creating submission file\")\n",
    "submission = submission_table(data_actual_predict, 'User', 'Movie', 'Rating')\n",
    "\n",
    "\n",
    "file_name = 'submission.csv'\n",
    "submission.to_csv(file_name, index=False)\n",
    "\n",
    "print(\"Submission file created\")\n",
    "\n"
   ]
  },
  {
   "cell_type": "code",
   "execution_count": 7,
   "metadata": {},
   "outputs": [
    {
     "name": "stdout",
     "output_type": "stream",
     "text": [
      "Loading pre trained Ridge Regression Function for blending models...\n"
     ]
    }
   ],
   "source": [
    "print(\"Loading pre trained Ridge Regression Function for blending models...\")\n",
    "#Load predefined regression function for blending\n",
    "with open(r\"linreg.pkl\", \"rb\") as input_file:\n",
    "    linreg = pickle.load(input_file)"
   ]
  },
  {
   "cell_type": "code",
   "execution_count": 5,
   "metadata": {},
   "outputs": [],
   "source": [
    "all_predicts= np.load(\"submit_predict.npy\")"
   ]
  },
  {
   "cell_type": "code",
   "execution_count": 8,
   "metadata": {},
   "outputs": [
    {
     "name": "stdout",
     "output_type": "stream",
     "text": [
      "Blending...\n"
     ]
    }
   ],
   "source": [
    "print(\"Blending...\")\n",
    "#Blend models\n",
    "final_predictions = linreg.predict(all_predicts.T)\n",
    "final_predictions = np.clip(final_predictions, 1, 5)\n",
    "final_predictions = np.round(final_predictions)\n",
    "\n"
   ]
  },
  {
   "cell_type": "code",
   "execution_count": null,
   "metadata": {
    "collapsed": true
   },
   "outputs": [],
   "source": []
  }
 ],
 "metadata": {
  "kernelspec": {
   "display_name": "Python 3",
   "language": "python",
   "name": "python3"
  },
  "language_info": {
   "codemirror_mode": {
    "name": "ipython",
    "version": 3
   },
   "file_extension": ".py",
   "mimetype": "text/x-python",
   "name": "python",
   "nbconvert_exporter": "python",
   "pygments_lexer": "ipython3",
   "version": "3.6.4"
  }
 },
 "nbformat": 4,
 "nbformat_minor": 2
}
